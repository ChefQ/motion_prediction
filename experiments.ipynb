{
 "cells": [
  {
   "cell_type": "code",
   "execution_count": 2,
   "metadata": {},
   "outputs": [],
   "source": [
    "from sklearn.feature_extraction.text import CountVectorizer\n",
    "import pandas as pd\n",
    "import numpy as np\n",
    "from sklearn.feature_extraction.text import TfidfVectorizer\n",
    "import ast\n",
    "from sklearn.linear_model import SGDClassifier\n",
    "from sklearn.pipeline import Pipeline\n",
    "from sklearn.feature_extraction.text import TfidfTransformer\n",
    "from sklearn.linear_model import LogisticRegression\n",
    "from sklearn.neighbors import KNeighborsClassifier\n",
    "from sklearn.ensemble import RandomForestClassifier\n",
    "from matplotlib import pyplot as plt\n",
    "from sklearn.metrics import confusion_matrix\n",
    "import seaborn as sns\n",
    "from sklearn.svm import LinearSVC\n",
    "import torch\n",
    "from sklearn.model_selection import cross_val_predict\n",
    "from sklearn.metrics import classification_report\n",
    "from pickle import dump, load\n",
    "import joblib"
   ]
  },
  {
   "cell_type": "markdown",
   "metadata": {},
   "source": [
    "### Data"
   ]
  },
  {
   "cell_type": "code",
   "execution_count": 3,
   "metadata": {},
   "outputs": [],
   "source": [
    "\n",
    "path = f'hidden_states/paired_testset_embeddings_{0}-{50}.csv'\n",
    "df = pd.read_csv(path, index_col=0)\n",
    "for i in range(50, 500, 50):\n",
    "    path = f'hidden_states/paired_testset_embeddings_{i}-{i+50}.csv'\n",
    "    temp = pd.read_csv(path)\n",
    "    df = pd.concat([df, temp])\n",
    "\n",
    "\n",
    "summaries = pd.read_csv(\"dataset/summaries_embeddings.csv\", index_col= 0)\n",
    "\n",
    "paired = pd.read_csv('dataset/paired_testset.csv', index_col=0)\n",
    "\n",
    "testset = pd.read_csv('dataset/testset.csv', index_col=0)\n"
   ]
  },
  {
   "cell_type": "markdown",
   "metadata": {},
   "source": [
    "### Functions"
   ]
  },
  {
   "cell_type": "code",
   "execution_count": 4,
   "metadata": {},
   "outputs": [],
   "source": [
    "from sklearn.preprocessing import StandardScaler\n",
    "from sklearn.pipeline import make_pipeline\n",
    "\n",
    "\n",
    "clf1 = SGDClassifier(loss='hinge', penalty='l2', alpha=1e-3, random_state=42, max_iter=5, tol=None)\n",
    "\n",
    "clf2 = RandomForestClassifier(n_estimators = 1500, criterion = \"entropy\", oob_score = True, max_features= 1)\n",
    "\n",
    "clf3 = KNeighborsClassifier()\n",
    "\n",
    "clf4 = LogisticRegression(solver='liblinear')\n",
    "\n",
    "clf5 = LinearSVC( random_state=42, tol=1e-5)\n",
    "\n",
    "models = {\n",
    "    \"SGD\": clf1,\n",
    "    \"RFT\": clf2,\n",
    "    \"KNN\" : clf3,\n",
    "    \"Logistic\": clf4,\n",
    "    \"LinearSVC\": clf5\n",
    "}\n",
    "\n",
    "def accuracies(trainX, trainY, testX, testY, models=models, feature_type=''):\n",
    "\n",
    "\n",
    "    for key, model in models.items():\n",
    "\n",
    "        model.fit(trainX, trainY)\n",
    "\n",
    "        with open(f'models/{key}-{feature_type}.pkl', 'wb') as f:  # open a text file\n",
    "            dump(model, f) \n",
    "\n",
    "        print(f\"{key}: {model.score(testX, testY)}\")\n",
    "\n",
    "def cvAcurracies(X,y, models=models):\n",
    "\n",
    "    for key, model in models.items():\n",
    "\n",
    "        y_pred = cross_val_predict(model, X, y , cv=10)\n",
    "        print(f\"{key}\")\n",
    "        print(classification_report(y, y_pred , target_names=[\"Deny\", \"Grant\"]))\n",
    "        tn, fp, fn, tp = confusion_matrix(y, y_pred).ravel()\n",
    "        print(f\"{key}=>tn:{tn}, fp:{fp}, fn:{fn}, tp:{tp}\")\n",
    "\n",
    "\n",
    "\n",
    "def getSingleBriefEmbeddings(brief_type, paired):\n",
    "    embeddings_map = list(map( lambda x: convert_to_numpy(x) , paired[brief_type].to_list()))\n",
    "    outcome_map = paired['outcome'].to_list()\n",
    "    data_type_map = paired['data_type'].to_list()  \n",
    "    data =  [] \n",
    "    outcomes = []\n",
    "    data_types = []\n",
    "\n",
    "    for index,embeddings in enumerate(embeddings_map):\n",
    "        outcome = outcome_map[index]\n",
    "        data_type = data_type_map[index]\n",
    "        for embedding in embeddings: \n",
    "            data.append(embedding)\n",
    "            outcomes.append(outcome)\n",
    "            data_types.append(data_type)\n",
    "    return np.array(data) , np.array(outcomes , dtype=str) , np.array(data_types , dtype=str)\n",
    "\n",
    "# convert string to Torch array\n",
    "\n",
    "def convert_to_numpy(embedding):\n",
    "    return np.array(ast.literal_eval(embedding))\n",
    "\n",
    "\n",
    "\n",
    "def getSingleBriefs(brief_type, paired=paired):\n",
    "    supports_map = list(map( lambda x: ast.literal_eval(x) , paired[brief_type].to_list()))\n",
    "    outcome_map = paired['outcome'].to_list()\n",
    "    data_type_map = paired['data_type'].to_list()  \n",
    "    data = []\n",
    "\n",
    "    for index,documents in enumerate(supports_map):\n",
    "        outcome = outcome_map[index]\n",
    "        data_type = data_type_map[index]\n",
    "        for document in documents: \n",
    "            data.append((document,outcome,data_type))\n",
    "\n",
    "    return np.array(data, dtype=str)\n",
    "\n",
    "def confusion_plot(true_labels, predicted_labels, classes, labels , normalize=False, title=None, cmap=plt.cm.Blues):\n",
    "\n",
    "    plt.figure(figsize=(10, 10))\n",
    "    matrix = confusion_matrix(true_labels, predicted_labels, labels=labels)\n",
    "\n",
    "    sns.heatmap(matrix, cmap=cmap, annot=True,\n",
    "                cbar = True, fmt=\".1f\",\n",
    "                 xticklabels=classes[\"x\"], \n",
    "                 yticklabels=classes[\"y\"])\n",
    "    class_names = [\"No Match\", \"Match\"]\n",
    "    # Plot non-normalized confusion matri\n",
    "    plt.xlabel(\"Predicted\")\n",
    "    plt.ylabel('Actual')\n",
    "    plt.title(title)\n",
    "    plt.show()\n",
    "    return matrix\n",
    "\n"
   ]
  },
  {
   "cell_type": "markdown",
   "metadata": {},
   "source": [
    "### TFIDF\n",
    "\n",
    "todo: convert Gordon's TFIDF's to format compatible to sklearns models this site might help : https://stackoverflow.com/questions/7922487/how-to-transform-numpy-matrix-or-array-to-scipy-sparse-matrix\n",
    "\n",
    "question: Should i use different pipeplines / tfidfs for support and opposition?"
   ]
  },
  {
   "cell_type": "code",
   "execution_count": 32,
   "metadata": {},
   "outputs": [],
   "source": [
    "\n",
    "# supports\n",
    "    \n",
    "support_data = getSingleBriefs('support')\n",
    "oppose_data = getSingleBriefs('opposition')\n"
   ]
  },
  {
   "cell_type": "code",
   "execution_count": 33,
   "metadata": {},
   "outputs": [],
   "source": [
    "# support\n",
    "\n",
    "support_x = support_data[:,0]\n",
    "support_target = support_data[:,1]\n",
    "\n",
    "train = support_data[:,2] == 'train'\n",
    "test = support_data[:,2] == 'test'\n",
    "\n",
    "support_train_x = support_x[train]\n",
    "support_train_target = support_target[train]\n",
    "support_test_x = support_x[test]\n",
    "support_test_target = support_target[test]\n",
    "\n",
    "\n",
    "# opposition\n",
    "\n",
    "oppose_x = oppose_data[:,0]\n",
    "oppose_target = oppose_data[:,1]\n",
    "\n",
    "train = oppose_data[:,2] == 'train'\n",
    "test = oppose_data[:,2] == 'test'\n",
    "\n",
    "oppose_train_x = oppose_x[train]\n",
    "oppose_train_target = oppose_target[train]\n",
    "oppose_test_x = oppose_x[test]\n",
    "oppose_test_target = oppose_target[test]\n",
    "\n",
    "\n",
    "labels = [\"grant\", \"deny\"]\n",
    "classes = {\"x\": labels, \"y\": labels}"
   ]
  },
  {
   "cell_type": "code",
   "execution_count": 34,
   "metadata": {},
   "outputs": [
    {
     "name": "stdout",
     "output_type": "stream",
     "text": [
      "SGD: 0.5598705501618123\n",
      "RFT: 0.540453074433657\n",
      "KNN: 0.5339805825242718\n",
      "Logistic: 0.5210355987055016\n"
     ]
    },
    {
     "name": "stderr",
     "output_type": "stream",
     "text": [
      "/Users/oluwaseuncardoso/Desktop/Projects/venv/lib/python3.9/site-packages/sklearn/svm/_classes.py:32: FutureWarning: The default value of `dual` will change from `True` to `'auto'` in 1.5. Set the value of `dual` explicitly to suppress the warning.\n",
      "  warnings.warn(\n"
     ]
    },
    {
     "name": "stdout",
     "output_type": "stream",
     "text": [
      "LinearSVC: 0.5760517799352751\n"
     ]
    }
   ],
   "source": [
    "pipe = Pipeline([('count', CountVectorizer()),('tfid', TfidfTransformer())])\n",
    "\n",
    "transformed_pipe = pipe.fit(support_x)\n",
    "\n",
    "joblib.dump(transformed_pipe, 'pipes/support-tfidf.joblib')\n",
    "\n",
    "support_count_train = transformed_pipe['count'].transform(support_train_x)\n",
    "\n",
    "support_tfid_train = transformed_pipe.transform(support_train_x)\n",
    "\n",
    "support_count_test = transformed_pipe['count'].transform(support_test_x)\n",
    "\n",
    "support_tfid_test = transformed_pipe.transform(support_test_x)\n",
    "\n",
    "accuracies(support_tfid_train, support_train_target, support_tfid_test, support_test_target, feature_type='support-tfidf')\n"
   ]
  },
  {
   "cell_type": "code",
   "execution_count": 40,
   "metadata": {},
   "outputs": [
    {
     "name": "stdout",
     "output_type": "stream",
     "text": [
      "SGD: 0.5945945945945946\n",
      "RFT: 0.5371621621621622\n",
      "KNN: 0.5067567567567568\n",
      "Logistic: 0.597972972972973\n"
     ]
    },
    {
     "name": "stderr",
     "output_type": "stream",
     "text": [
      "/Users/oluwaseuncardoso/Desktop/Projects/venv/lib/python3.9/site-packages/sklearn/svm/_classes.py:32: FutureWarning: The default value of `dual` will change from `True` to `'auto'` in 1.5. Set the value of `dual` explicitly to suppress the warning.\n",
      "  warnings.warn(\n"
     ]
    },
    {
     "name": "stdout",
     "output_type": "stream",
     "text": [
      "LinearSVC: 0.597972972972973\n"
     ]
    }
   ],
   "source": [
    "\n",
    "# opposition\n",
    "\n",
    "transformed_pipe = pipe.fit(oppose_x)\n",
    "\n",
    "joblib.dump(transformed_pipe, 'pipes/oppose-tfidf.joblib')\n",
    "\n",
    "oppose_count_train = transformed_pipe['count'].transform(oppose_train_x)\n",
    "\n",
    "oppose_tfid_train = transformed_pipe.transform(oppose_train_x)\n",
    "\n",
    "oppose_count_test = transformed_pipe['count'].transform(oppose_test_x)\n",
    "\n",
    "oppose_tfid_test = transformed_pipe.transform(oppose_test_x)\n",
    "\n",
    "accuracies(oppose_tfid_train, oppose_train_target, oppose_tfid_test, oppose_test_target, feature_type='opposition-tfidf')\n"
   ]
  },
  {
   "cell_type": "code",
   "execution_count": 34,
   "metadata": {},
   "outputs": [],
   "source": [
    "np.savetxt(\"support_train_target.csv\", support_train_target, delimiter=\",\", fmt='%s')\n",
    "np.savetxt(\"support_test_target.csv\", support_test_target, delimiter=\",\", fmt='%s')"
   ]
  },
  {
   "cell_type": "code",
   "execution_count": 150,
   "metadata": {},
   "outputs": [
    {
     "name": "stdout",
     "output_type": "stream",
     "text": [
      "accuracy: 0.5631067961165048\n"
     ]
    },
    {
     "data": {
      "image/png": "[encoded data removed]",
      "text/plain": [
       "<Figure size 1000x1000 with 2 Axes>"
      ]
     },
     "metadata": {},
     "output_type": "display_data"
    },
    {
     "data": {
      "text/plain": [
       "array([[ 45,  98],\n",
       "       [ 37, 129]])"
      ]
     },
     "execution_count": 150,
     "metadata": {},
     "output_type": "execute_result"
    }
   ],
   "source": [
    "text_clf = Pipeline([\n",
    "    ('vect', CountVectorizer()),\n",
    "    ('tfidf', TfidfTransformer()),\n",
    "    ('clf', SGDClassifier(loss='hinge', penalty='l2',\n",
    "                          alpha=1e-3, random_state=42,\n",
    "                          max_iter=5, tol=None)),\n",
    "])\n",
    "\n",
    "text_clf.fit(support_train_x, support_train_target)\n",
    "predicted = text_clf.predict(support_test_x)\n",
    "print(f\"accuracy: {np.mean(predicted == support_test_target)}\")\n",
    "\n",
    "confusion_plot(support_test_target, predicted, classes, labels=labels, normalize=False, title=\"Linear SVM (1) Confusion Matrix\")"
   ]
  },
  {
   "cell_type": "code",
   "execution_count": 144,
   "metadata": {},
   "outputs": [
    {
     "name": "stdout",
     "output_type": "stream",
     "text": [
      "accuracy: 0.56957928802589\n"
     ]
    },
    {
     "data": {
      "image/png": "[encoded data removed]",
      "text/plain": [
       "<Figure size 1000x1000 with 2 Axes>"
      ]
     },
     "metadata": {},
     "output_type": "display_data"
    },
    {
     "data": {
      "text/plain": [
       "array([[87, 56],\n",
       "       [77, 89]])"
      ]
     },
     "execution_count": 144,
     "metadata": {},
     "output_type": "execute_result"
    }
   ],
   "source": [
    "text_clf = Pipeline([\n",
    "    ('vect', CountVectorizer()),\n",
    "    ('tfidf', TfidfTransformer()),\n",
    "    ('clf', LinearSVC( random_state=42, tol=1e-5)),\n",
    "])\n",
    "\n",
    "text_clf.fit(support_train_x, support_train_target)\n",
    "predicted = text_clf.predict(support_test_x)\n",
    "print(f\"accuracy: {np.mean(predicted == support_test_target)}\")\n",
    "\n",
    "\n",
    "confusion_plot(support_test_target, predicted, classes, labels=labels, normalize=False, title=\"Linear SVM (2) Confusion Matrix\")"
   ]
  },
  {
   "cell_type": "code",
   "execution_count": 155,
   "metadata": {},
   "outputs": [
    {
     "name": "stdout",
     "output_type": "stream",
     "text": [
      "0.5275080906148867\n"
     ]
    },
    {
     "data": {
      "image/png": "[encoded data removed]",
      "text/plain": [
       "<Figure size 1000x1000 with 2 Axes>"
      ]
     },
     "metadata": {},
     "output_type": "display_data"
    },
    {
     "data": {
      "text/plain": [
       "array([[109,  34],\n",
       "       [112,  54]])"
      ]
     },
     "execution_count": 155,
     "metadata": {},
     "output_type": "execute_result"
    }
   ],
   "source": [
    "\n",
    "text_clf = Pipeline([\n",
    "    ('vect', CountVectorizer()),\n",
    "    ('tfidf', TfidfTransformer()),\n",
    "    ('logistic',LogisticRegression(solver='liblinear')),\n",
    "])\n",
    "\n",
    "text_clf.fit(support_train_x, support_train_target)\n",
    "predicted = text_clf.predict(support_test_x)\n",
    "print(np.mean(predicted == support_test_target))\n",
    "#print(f\"probability: {text_clf.predict_proba(support_test_x)}\")\n",
    "confusion_plot(support_test_target, predicted, classes, labels=labels, normalize=False, title=\"Logistic Regression Confusion Matrix\")"
   ]
  },
  {
   "cell_type": "code",
   "execution_count": 6,
   "metadata": {},
   "outputs": [
    {
     "name": "stdout",
     "output_type": "stream",
     "text": [
      "0.5533980582524272\n"
     ]
    },
    {
     "data": {
      "image/png": "[encoded data removed]",
      "text/plain": [
       "<Figure size 1000x1000 with 2 Axes>"
      ]
     },
     "metadata": {},
     "output_type": "display_data"
    },
    {
     "data": {
      "text/plain": [
       "array([[114,  29],\n",
       "       [109,  57]])"
      ]
     },
     "execution_count": 6,
     "metadata": {},
     "output_type": "execute_result"
    }
   ],
   "source": [
    "\n",
    "text_rft = Pipeline([\n",
    "    ('vect', CountVectorizer()),\n",
    "    ('tfidf', TfidfTransformer()),\n",
    "    ('RFT', RandomForestClassifier(n_estimators = 1500, criterion = \"entropy\", oob_score = True, max_features= 1)),\n",
    "])\n",
    "\n",
    "text_rft.fit(support_train_x, support_train_target)\n",
    "predicted_rft = text_rft.predict(support_test_x)\n",
    "print(np.mean(predicted_rft == support_test_target))\n",
    "#print(f\"probability: {text_clf.predict_proba(support_test_x)}\")\n",
    "confusion_plot(support_test_target, predicted_rft, classes, labels=labels, normalize=False, title=\"RandomForestClassifier Confusion Matrix\")\n",
    "\n"
   ]
  },
  {
   "cell_type": "code",
   "execution_count": 9,
   "metadata": {},
   "outputs": [],
   "source": [
    "with open('model.pkl', 'wb') as f:  # open a text file\n",
    "    dump(text_rft, f) \n",
    "\n",
    "with open('model.pkl', 'rb') as f:\n",
    "    new_clf = load(f)"
   ]
  },
  {
   "cell_type": "code",
   "execution_count": 10,
   "metadata": {},
   "outputs": [
    {
     "name": "stdout",
     "output_type": "stream",
     "text": [
      "(array([0.55333333, 0.44666667]), 'deny')\n",
      "(array([0.49333333, 0.50666667]), 'grant')\n",
      "(array([0.408, 0.592]), 'grant')\n",
      "(array([0.53933333, 0.46066667]), 'deny')\n",
      "(array([0.51, 0.49]), 'deny')\n",
      "(array([0.478, 0.522]), 'grant')\n",
      "(array([0.49466667, 0.50533333]), 'grant')\n",
      "(array([0.52933333, 0.47066667]), 'deny')\n",
      "(array([0.47333333, 0.52666667]), 'grant')\n",
      "(array([0.448, 0.552]), 'grant')\n",
      "(array([0.466, 0.534]), 'grant')\n",
      "(array([0.42266667, 0.57733333]), 'grant')\n",
      "(array([0.446, 0.554]), 'grant')\n",
      "(array([0.45533333, 0.54466667]), 'grant')\n",
      "(array([0.39666667, 0.60333333]), 'grant')\n",
      "(array([0.53733333, 0.46266667]), 'deny')\n",
      "(array([0.45466667, 0.54533333]), 'grant')\n",
      "(array([0.44533333, 0.55466667]), 'grant')\n",
      "(array([0.51533333, 0.48466667]), 'deny')\n",
      "(array([0.43666667, 0.56333333]), 'grant')\n",
      "(array([0.42733333, 0.57266667]), 'grant')\n",
      "(array([0.26933333, 0.73066667]), 'grant')\n",
      "(array([0.538, 0.462]), 'deny')\n",
      "(array([0.37933333, 0.62066667]), 'grant')\n",
      "(array([0.47666667, 0.52333333]), 'grant')\n",
      "(array([0.45066667, 0.54933333]), 'grant')\n",
      "(array([0.39666667, 0.60333333]), 'grant')\n",
      "(array([0.46666667, 0.53333333]), 'grant')\n",
      "(array([0.372, 0.628]), 'grant')\n",
      "(array([0.48266667, 0.51733333]), 'grant')\n",
      "(array([0.50933333, 0.49066667]), 'deny')\n",
      "(array([0.53333333, 0.46666667]), 'deny')\n",
      "(array([0.544, 0.456]), 'deny')\n",
      "(array([0.49733333, 0.50266667]), 'grant')\n",
      "(array([0.44333333, 0.55666667]), 'grant')\n",
      "(array([0.48066667, 0.51933333]), 'grant')\n",
      "(array([0.38333333, 0.61666667]), 'grant')\n",
      "(array([0.44266667, 0.55733333]), 'grant')\n",
      "(array([0.49666667, 0.50333333]), 'grant')\n",
      "(array([0.48533333, 0.51466667]), 'grant')\n",
      "(array([0.39133333, 0.60866667]), 'grant')\n",
      "(array([0.47266667, 0.52733333]), 'grant')\n",
      "(array([0.47133333, 0.52866667]), 'grant')\n",
      "(array([0.40533333, 0.59466667]), 'grant')\n",
      "(array([0.49733333, 0.50266667]), 'grant')\n",
      "(array([0.454, 0.546]), 'grant')\n",
      "(array([0.55133333, 0.44866667]), 'deny')\n",
      "(array([0.47266667, 0.52733333]), 'grant')\n",
      "(array([0.47933333, 0.52066667]), 'grant')\n",
      "(array([0.45066667, 0.54933333]), 'grant')\n",
      "(array([0.50666667, 0.49333333]), 'deny')\n",
      "(array([0.416, 0.584]), 'grant')\n",
      "(array([0.452, 0.548]), 'grant')\n",
      "(array([0.52, 0.48]), 'deny')\n",
      "(array([0.462, 0.538]), 'grant')\n",
      "(array([0.45266667, 0.54733333]), 'grant')\n",
      "(array([0.63266667, 0.36733333]), 'deny')\n",
      "(array([0.488, 0.512]), 'grant')\n",
      "(array([0.45, 0.55]), 'grant')\n",
      "(array([0.496, 0.504]), 'grant')\n",
      "(array([0.45666667, 0.54333333]), 'grant')\n",
      "(array([0.45266667, 0.54733333]), 'grant')\n",
      "(array([0.51866667, 0.48133333]), 'deny')\n",
      "(array([0.49333333, 0.50666667]), 'grant')\n",
      "(array([0.49133333, 0.50866667]), 'grant')\n",
      "(array([0.428, 0.572]), 'grant')\n",
      "(array([0.49133333, 0.50866667]), 'grant')\n",
      "(array([0.36933333, 0.63066667]), 'grant')\n",
      "(array([0.51066667, 0.48933333]), 'deny')\n",
      "(array([0.14933333, 0.85066667]), 'grant')\n",
      "(array([0.528, 0.472]), 'deny')\n",
      "(array([0.52133333, 0.47866667]), 'deny')\n",
      "(array([0.45133333, 0.54866667]), 'grant')\n",
      "(array([0.54, 0.46]), 'deny')\n",
      "(array([0.46333333, 0.53666667]), 'grant')\n",
      "(array([0.48466667, 0.51533333]), 'grant')\n",
      "(array([0.47266667, 0.52733333]), 'grant')\n",
      "(array([0.488, 0.512]), 'grant')\n",
      "(array([0.47266667, 0.52733333]), 'grant')\n",
      "(array([0.46333333, 0.53666667]), 'grant')\n",
      "(array([0.52066667, 0.47933333]), 'deny')\n",
      "(array([0.44066667, 0.55933333]), 'grant')\n",
      "(array([0.46133333, 0.53866667]), 'grant')\n",
      "(array([0.606, 0.394]), 'deny')\n",
      "(array([0.49333333, 0.50666667]), 'grant')\n",
      "(array([0.50266667, 0.49733333]), 'deny')\n",
      "(array([0.378, 0.622]), 'grant')\n",
      "(array([0.51, 0.49]), 'deny')\n",
      "(array([0.514, 0.486]), 'deny')\n",
      "(array([0.356, 0.644]), 'grant')\n",
      "(array([0.51466667, 0.48533333]), 'deny')\n",
      "(array([0.49333333, 0.50666667]), 'grant')\n",
      "(array([0.52133333, 0.47866667]), 'deny')\n",
      "(array([0.49866667, 0.50133333]), 'grant')\n",
      "(array([0.50133333, 0.49866667]), 'deny')\n",
      "(array([0.47133333, 0.52866667]), 'grant')\n",
      "(array([0.44466667, 0.55533333]), 'grant')\n",
      "(array([0.51666667, 0.48333333]), 'deny')\n",
      "(array([0.464, 0.536]), 'grant')\n",
      "(array([0.46133333, 0.53866667]), 'grant')\n",
      "(array([0.47133333, 0.52866667]), 'grant')\n",
      "(array([0.43333333, 0.56666667]), 'grant')\n",
      "(array([0.48666667, 0.51333333]), 'grant')\n",
      "(array([0.43066667, 0.56933333]), 'grant')\n",
      "(array([0.432, 0.568]), 'grant')\n",
      "(array([0.40466667, 0.59533333]), 'grant')\n",
      "(array([0.52533333, 0.47466667]), 'deny')\n",
      "(array([0.472, 0.528]), 'grant')\n",
      "(array([0.44666667, 0.55333333]), 'grant')\n",
      "(array([0.506, 0.494]), 'deny')\n",
      "(array([0.50266667, 0.49733333]), 'deny')\n",
      "(array([0.50333333, 0.49666667]), 'deny')\n",
      "(array([0.49466667, 0.50533333]), 'grant')\n",
      "(array([0.52533333, 0.47466667]), 'deny')\n",
      "(array([0.46066667, 0.53933333]), 'grant')\n",
      "(array([0.462, 0.538]), 'grant')\n",
      "(array([0.47666667, 0.52333333]), 'grant')\n",
      "(array([0.492, 0.508]), 'grant')\n",
      "(array([0.25266667, 0.74733333]), 'grant')\n",
      "(array([0.48933333, 0.51066667]), 'grant')\n",
      "(array([0.474, 0.526]), 'grant')\n",
      "(array([0.47066667, 0.52933333]), 'grant')\n",
      "(array([0.42733333, 0.57266667]), 'grant')\n",
      "(array([0.436, 0.564]), 'grant')\n",
      "(array([0.53, 0.47]), 'deny')\n",
      "(array([0.54333333, 0.45666667]), 'deny')\n",
      "(array([0.35733333, 0.64266667]), 'grant')\n",
      "(array([0.43066667, 0.56933333]), 'grant')\n",
      "(array([0.46466667, 0.53533333]), 'grant')\n",
      "(array([0.48533333, 0.51466667]), 'grant')\n",
      "(array([0.47666667, 0.52333333]), 'grant')\n",
      "(array([0.44533333, 0.55466667]), 'grant')\n",
      "(array([0.434, 0.566]), 'grant')\n",
      "(array([0.444, 0.556]), 'grant')\n",
      "(array([0.43133333, 0.56866667]), 'grant')\n",
      "(array([0.49333333, 0.50666667]), 'grant')\n",
      "(array([0.53733333, 0.46266667]), 'deny')\n",
      "(array([0.406, 0.594]), 'grant')\n",
      "(array([0.506, 0.494]), 'deny')\n",
      "(array([0.50466667, 0.49533333]), 'deny')\n",
      "(array([0.48066667, 0.51933333]), 'grant')\n",
      "(array([0.476, 0.524]), 'grant')\n",
      "(array([0.504, 0.496]), 'deny')\n",
      "(array([0.58333333, 0.41666667]), 'deny')\n",
      "(array([0.52, 0.48]), 'deny')\n",
      "(array([0.47866667, 0.52133333]), 'grant')\n",
      "(array([0.474, 0.526]), 'grant')\n",
      "(array([0.50466667, 0.49533333]), 'deny')\n",
      "(array([0.43133333, 0.56866667]), 'grant')\n",
      "(array([0.468, 0.532]), 'grant')\n",
      "(array([0.41466667, 0.58533333]), 'grant')\n",
      "(array([0.502, 0.498]), 'deny')\n",
      "(array([0.49066667, 0.50933333]), 'grant')\n",
      "(array([0.526, 0.474]), 'deny')\n",
      "(array([0.39666667, 0.60333333]), 'grant')\n",
      "(array([0.408, 0.592]), 'grant')\n",
      "(array([0.43333333, 0.56666667]), 'grant')\n",
      "(array([0.38866667, 0.61133333]), 'grant')\n",
      "(array([0.536, 0.464]), 'deny')\n",
      "(array([0.47066667, 0.52933333]), 'grant')\n",
      "(array([0.498, 0.502]), 'grant')\n",
      "(array([0.51333333, 0.48666667]), 'deny')\n",
      "(array([0.47466667, 0.52533333]), 'grant')\n",
      "(array([0.51666667, 0.48333333]), 'deny')\n",
      "(array([0.41, 0.59]), 'grant')\n",
      "(array([0.42733333, 0.57266667]), 'grant')\n",
      "(array([0.498, 0.502]), 'grant')\n",
      "(array([0.47866667, 0.52133333]), 'grant')\n",
      "(array([0.37466667, 0.62533333]), 'grant')\n",
      "(array([0.48866667, 0.51133333]), 'grant')\n",
      "(array([0.46333333, 0.53666667]), 'grant')\n",
      "(array([0.53666667, 0.46333333]), 'deny')\n",
      "(array([0.42933333, 0.57066667]), 'grant')\n",
      "(array([0.63066667, 0.36933333]), 'deny')\n",
      "(array([0.486, 0.514]), 'grant')\n",
      "(array([0.50266667, 0.49733333]), 'deny')\n",
      "(array([0.502, 0.498]), 'deny')\n",
      "(array([0.50733333, 0.49266667]), 'deny')\n",
      "(array([0.48666667, 0.51333333]), 'grant')\n",
      "(array([0.486, 0.514]), 'grant')\n",
      "(array([0.51666667, 0.48333333]), 'deny')\n",
      "(array([0.464, 0.536]), 'grant')\n",
      "(array([0.396, 0.604]), 'grant')\n",
      "(array([0.48866667, 0.51133333]), 'grant')\n",
      "(array([0.43333333, 0.56666667]), 'grant')\n",
      "(array([0.47866667, 0.52133333]), 'grant')\n",
      "(array([0.42266667, 0.57733333]), 'grant')\n",
      "(array([0.53266667, 0.46733333]), 'deny')\n",
      "(array([0.47666667, 0.52333333]), 'grant')\n",
      "(array([0.46533333, 0.53466667]), 'grant')\n",
      "(array([0.48066667, 0.51933333]), 'grant')\n",
      "(array([0.47533333, 0.52466667]), 'grant')\n",
      "(array([0.47866667, 0.52133333]), 'grant')\n",
      "(array([0.53066667, 0.46933333]), 'deny')\n",
      "(array([0.49, 0.51]), 'grant')\n",
      "(array([0.47733333, 0.52266667]), 'grant')\n",
      "(array([0.518, 0.482]), 'deny')\n",
      "(array([0.492, 0.508]), 'grant')\n",
      "(array([0.41, 0.59]), 'grant')\n",
      "(array([0.454, 0.546]), 'grant')\n",
      "(array([0.51533333, 0.48466667]), 'deny')\n",
      "(array([0.538, 0.462]), 'deny')\n",
      "(array([0.52333333, 0.47666667]), 'deny')\n",
      "(array([0.47333333, 0.52666667]), 'grant')\n",
      "(array([0.48133333, 0.51866667]), 'grant')\n",
      "(array([0.462, 0.538]), 'grant')\n",
      "(array([0.492, 0.508]), 'grant')\n",
      "(array([0.53333333, 0.46666667]), 'deny')\n",
      "(array([0.52466667, 0.47533333]), 'deny')\n",
      "(array([0.50066667, 0.49933333]), 'deny')\n",
      "(array([0.43866667, 0.56133333]), 'grant')\n",
      "(array([0.456, 0.544]), 'grant')\n",
      "(array([0.454, 0.546]), 'grant')\n",
      "(array([0.654, 0.346]), 'deny')\n",
      "(array([0.476, 0.524]), 'grant')\n",
      "(array([0.41, 0.59]), 'grant')\n",
      "(array([0.46, 0.54]), 'grant')\n",
      "(array([0.474, 0.526]), 'grant')\n",
      "(array([0.51266667, 0.48733333]), 'deny')\n",
      "(array([0.46133333, 0.53866667]), 'grant')\n",
      "(array([0.50666667, 0.49333333]), 'deny')\n",
      "(array([0.66533333, 0.33466667]), 'deny')\n",
      "(array([0.456, 0.544]), 'grant')\n",
      "(array([0.47333333, 0.52666667]), 'grant')\n",
      "(array([0.49733333, 0.50266667]), 'grant')\n",
      "(array([0.476, 0.524]), 'grant')\n",
      "(array([0.29, 0.71]), 'grant')\n",
      "(array([0.448, 0.552]), 'grant')\n",
      "(array([0.51933333, 0.48066667]), 'deny')\n",
      "(array([0.49066667, 0.50933333]), 'grant')\n",
      "(array([0.508, 0.492]), 'deny')\n",
      "(array([0.37066667, 0.62933333]), 'grant')\n",
      "(array([0.47133333, 0.52866667]), 'grant')\n",
      "(array([0.41933333, 0.58066667]), 'grant')\n",
      "(array([0.444, 0.556]), 'grant')\n",
      "(array([0.51666667, 0.48333333]), 'deny')\n",
      "(array([0.43933333, 0.56066667]), 'grant')\n",
      "(array([0.494, 0.506]), 'grant')\n",
      "(array([0.44666667, 0.55333333]), 'grant')\n",
      "(array([0.43933333, 0.56066667]), 'grant')\n",
      "(array([0.49466667, 0.50533333]), 'grant')\n",
      "(array([0.45266667, 0.54733333]), 'grant')\n",
      "(array([0.52133333, 0.47866667]), 'deny')\n",
      "(array([0.49133333, 0.50866667]), 'grant')\n",
      "(array([0.458, 0.542]), 'grant')\n",
      "(array([0.442, 0.558]), 'grant')\n",
      "(array([0.42466667, 0.57533333]), 'grant')\n",
      "(array([0.476, 0.524]), 'grant')\n",
      "(array([0.53, 0.47]), 'deny')\n",
      "(array([0.52933333, 0.47066667]), 'deny')\n",
      "(array([0.42266667, 0.57733333]), 'grant')\n",
      "(array([0.46066667, 0.53933333]), 'grant')\n",
      "(array([0.474, 0.526]), 'grant')\n",
      "(array([0.476, 0.524]), 'grant')\n",
      "(array([0.47466667, 0.52533333]), 'grant')\n",
      "(array([0.47, 0.53]), 'grant')\n",
      "(array([0.43466667, 0.56533333]), 'grant')\n",
      "(array([0.51, 0.49]), 'deny')\n",
      "(array([0.6, 0.4]), 'deny')\n",
      "(array([0.42266667, 0.57733333]), 'grant')\n",
      "(array([0.46933333, 0.53066667]), 'grant')\n",
      "(array([0.47533333, 0.52466667]), 'grant')\n",
      "(array([0.46733333, 0.53266667]), 'grant')\n",
      "(array([0.418, 0.582]), 'grant')\n",
      "(array([0.406, 0.594]), 'grant')\n",
      "(array([0.42533333, 0.57466667]), 'grant')\n",
      "(array([0.46533333, 0.53466667]), 'grant')\n",
      "(array([0.482, 0.518]), 'grant')\n",
      "(array([0.37533333, 0.62466667]), 'grant')\n",
      "(array([0.42133333, 0.57866667]), 'grant')\n",
      "(array([0.44866667, 0.55133333]), 'grant')\n",
      "(array([0.49066667, 0.50933333]), 'grant')\n",
      "(array([0.348, 0.652]), 'grant')\n",
      "(array([0.44333333, 0.55666667]), 'grant')\n",
      "(array([0.47933333, 0.52066667]), 'grant')\n",
      "(array([0.444, 0.556]), 'grant')\n",
      "(array([0.50266667, 0.49733333]), 'deny')\n",
      "(array([0.46666667, 0.53333333]), 'grant')\n",
      "(array([0.45933333, 0.54066667]), 'grant')\n",
      "(array([0.464, 0.536]), 'grant')\n",
      "(array([0.46666667, 0.53333333]), 'grant')\n",
      "(array([0.41, 0.59]), 'grant')\n",
      "(array([0.51, 0.49]), 'deny')\n",
      "(array([0.44466667, 0.55533333]), 'grant')\n",
      "(array([0.49666667, 0.50333333]), 'grant')\n",
      "(array([0.454, 0.546]), 'grant')\n",
      "(array([0.46, 0.54]), 'grant')\n",
      "(array([0.41933333, 0.58066667]), 'grant')\n",
      "(array([0.49133333, 0.50866667]), 'grant')\n",
      "(array([0.58133333, 0.41866667]), 'deny')\n",
      "(array([0.64333333, 0.35666667]), 'deny')\n",
      "(array([0.562, 0.438]), 'deny')\n",
      "(array([0.53066667, 0.46933333]), 'deny')\n",
      "(array([0.38, 0.62]), 'grant')\n",
      "(array([0.44933333, 0.55066667]), 'grant')\n",
      "(array([0.468, 0.532]), 'grant')\n",
      "(array([0.51066667, 0.48933333]), 'deny')\n",
      "(array([0.57, 0.43]), 'deny')\n",
      "(array([0.47533333, 0.52466667]), 'grant')\n",
      "(array([0.504, 0.496]), 'deny')\n",
      "(array([0.502, 0.498]), 'deny')\n",
      "(array([0.496, 0.504]), 'grant')\n",
      "(array([0.412, 0.588]), 'grant')\n",
      "(array([0.42733333, 0.57266667]), 'grant')\n",
      "(array([0.48133333, 0.51866667]), 'grant')\n",
      "(array([0.508, 0.492]), 'deny')\n",
      "(array([0.46533333, 0.53466667]), 'grant')\n",
      "(array([0.51733333, 0.48266667]), 'deny')\n",
      "(array([0.49333333, 0.50666667]), 'grant')\n"
     ]
    }
   ],
   "source": [
    "for i in zip(text_rft.predict_proba(support_test_x) , text_rft.predict(support_test_x)):\n",
    "    print(i)"
   ]
  },
  {
   "cell_type": "code",
   "execution_count": 154,
   "metadata": {},
   "outputs": [
    {
     "name": "stdout",
     "output_type": "stream",
     "text": [
      " accuracy 0.540453074433657\n"
     ]
    },
    {
     "data": {
      "image/png": "[encoded data removed]",
      "text/plain": [
       "<Figure size 1000x1000 with 2 Axes>"
      ]
     },
     "metadata": {},
     "output_type": "display_data"
    },
    {
     "data": {
      "text/plain": [
       "array([[78, 65],\n",
       "       [77, 89]])"
      ]
     },
     "execution_count": 154,
     "metadata": {},
     "output_type": "execute_result"
    }
   ],
   "source": [
    "text_clf = Pipeline([\n",
    "    ('vect', CountVectorizer()),\n",
    "    ('tfidf', TfidfTransformer()),\n",
    "    ('KNN', KNeighborsClassifier()),\n",
    "])\n",
    "\n",
    "text_clf.fit(support_train_x, support_train_target)\n",
    "predicted = text_clf.predict(support_test_x)\n",
    "print(f\" accuracy {np.mean(predicted == support_test_target)}\")\n",
    "confusion_plot(support_test_target, predicted, classes, labels=labels, normalize=False, title=\"KNearest Neighbours Confusion Matrix\")\n"
   ]
  },
  {
   "cell_type": "markdown",
   "metadata": {},
   "source": [
    "### Embeddings"
   ]
  },
  {
   "cell_type": "markdown",
   "metadata": {},
   "source": []
  },
  {
   "cell_type": "code",
   "execution_count": 36,
   "metadata": {},
   "outputs": [],
   "source": [
    "# Todo: verify if df is the sentence embeddings\n",
    "\n",
    "support_mean_embeddings = getSingleBriefEmbeddings('support_first_embeddings', df)\n",
    "X, Y, data_types = support_mean_embeddings\n"
   ]
  },
  {
   "cell_type": "code",
   "execution_count": 37,
   "metadata": {},
   "outputs": [],
   "source": [
    "\n",
    "support_sentence_embeddings = getSingleBriefEmbeddings('support_embeddings', summaries)\n",
    "support_X, support_Y, support_data_types = support_sentence_embeddings\n",
    "\n",
    "\n",
    "train = support_data_types == 'train'\n",
    "test = support_data_types == 'test'\n",
    "\n",
    "support_train_x = support_X[train]\n",
    "support_train_target = support_Y[train]\n",
    "support_test_x = support_X[test]\n",
    "support_test_target = support_Y[test]\n",
    "\n",
    "\n",
    "\n",
    "opposition_sentence_embeddings = getSingleBriefEmbeddings('opposition_embeddings', summaries)\n",
    "opposition_X, opposition_Y, opposition_data_types = opposition_sentence_embeddings\n",
    "\n",
    "\n",
    "train = opposition_data_types == 'train'\n",
    "test = opposition_data_types == 'test'\n",
    "\n",
    "opposition_train_x = opposition_X[train]\n",
    "opposition_train_target = opposition_Y[train]\n",
    "opposition_test_x = opposition_X[test]\n",
    "opposition_test_target = opposition_Y[test]\n"
   ]
  },
  {
   "cell_type": "code",
   "execution_count": 38,
   "metadata": {},
   "outputs": [
    {
     "name": "stdout",
     "output_type": "stream",
     "text": [
      "SGD: 0.5469255663430421\n",
      "RFT: 0.5533980582524272\n",
      "KNN: 0.5469255663430421\n",
      "Logistic: 0.5922330097087378\n",
      "LinearSVC: 0.540453074433657\n"
     ]
    },
    {
     "name": "stderr",
     "output_type": "stream",
     "text": [
      "/Users/oluwaseuncardoso/Desktop/Projects/venv/lib/python3.9/site-packages/sklearn/svm/_classes.py:32: FutureWarning: The default value of `dual` will change from `True` to `'auto'` in 1.5. Set the value of `dual` explicitly to suppress the warning.\n",
      "  warnings.warn(\n"
     ]
    }
   ],
   "source": [
    "\n",
    "\n",
    "accuracies(support_train_x, support_train_target, support_test_x, support_test_target,feature_type='support-sentence_embeddings')"
   ]
  },
  {
   "cell_type": "code",
   "execution_count": 39,
   "metadata": {},
   "outputs": [
    {
     "name": "stdout",
     "output_type": "stream",
     "text": [
      "SGD: 0.4594594594594595\n",
      "RFT: 0.47635135135135137\n",
      "KNN: 0.5101351351351351\n",
      "Logistic: 0.44594594594594594\n",
      "LinearSVC: 0.4560810810810811\n"
     ]
    },
    {
     "name": "stderr",
     "output_type": "stream",
     "text": [
      "/Users/oluwaseuncardoso/Desktop/Projects/venv/lib/python3.9/site-packages/sklearn/svm/_classes.py:32: FutureWarning: The default value of `dual` will change from `True` to `'auto'` in 1.5. Set the value of `dual` explicitly to suppress the warning.\n",
      "  warnings.warn(\n"
     ]
    }
   ],
   "source": [
    "accuracies(opposition_train_x, opposition_train_target, opposition_test_x, opposition_test_target,feature_type='opposition-sentence_embeddings')"
   ]
  },
  {
   "cell_type": "code",
   "execution_count": 17,
   "metadata": {},
   "outputs": [
    {
     "name": "stdout",
     "output_type": "stream",
     "text": [
      "SGD\n",
      "              precision    recall  f1-score   support\n",
      "\n",
      "        Deny       0.54      0.53      0.54       316\n",
      "       Grant       0.54      0.54      0.54       314\n",
      "\n",
      "    accuracy                           0.54       630\n",
      "   macro avg       0.54      0.54      0.54       630\n",
      "weighted avg       0.54      0.54      0.54       630\n",
      "\n",
      "SGD=>tn:168, fp:148, fn:143, tp:171\n",
      "RFT\n",
      "              precision    recall  f1-score   support\n",
      "\n",
      "        Deny       0.56      0.61      0.59       316\n",
      "       Grant       0.57      0.52      0.55       314\n",
      "\n",
      "    accuracy                           0.57       630\n",
      "   macro avg       0.57      0.57      0.57       630\n",
      "weighted avg       0.57      0.57      0.57       630\n",
      "\n",
      "RFT=>tn:193, fp:123, fn:150, tp:164\n",
      "KNN\n",
      "              precision    recall  f1-score   support\n",
      "\n",
      "        Deny       0.54      0.57      0.55       316\n",
      "       Grant       0.54      0.51      0.53       314\n",
      "\n",
      "    accuracy                           0.54       630\n",
      "   macro avg       0.54      0.54      0.54       630\n",
      "weighted avg       0.54      0.54      0.54       630\n",
      "\n",
      "KNN=>tn:179, fp:137, fn:153, tp:161\n",
      "Logistic\n",
      "              precision    recall  f1-score   support\n",
      "\n",
      "        Deny       0.55      0.58      0.56       316\n",
      "       Grant       0.55      0.52      0.53       314\n",
      "\n",
      "    accuracy                           0.55       630\n",
      "   macro avg       0.55      0.55      0.55       630\n",
      "weighted avg       0.55      0.55      0.55       630\n",
      "\n",
      "Logistic=>tn:183, fp:133, fn:152, tp:162\n"
     ]
    },
    {
     "name": "stderr",
     "output_type": "stream",
     "text": [
      "/Users/oluwaseuncardoso/Desktop/Projects/venv/lib/python3.9/site-packages/sklearn/svm/_classes.py:32: FutureWarning: The default value of `dual` will change from `True` to `'auto'` in 1.5. Set the value of `dual` explicitly to suppress the warning.\n",
      "  warnings.warn(\n",
      "/Users/oluwaseuncardoso/Desktop/Projects/venv/lib/python3.9/site-packages/sklearn/svm/_classes.py:32: FutureWarning: The default value of `dual` will change from `True` to `'auto'` in 1.5. Set the value of `dual` explicitly to suppress the warning.\n",
      "  warnings.warn(\n",
      "/Users/oluwaseuncardoso/Desktop/Projects/venv/lib/python3.9/site-packages/sklearn/svm/_classes.py:32: FutureWarning: The default value of `dual` will change from `True` to `'auto'` in 1.5. Set the value of `dual` explicitly to suppress the warning.\n",
      "  warnings.warn(\n",
      "/Users/oluwaseuncardoso/Desktop/Projects/venv/lib/python3.9/site-packages/sklearn/svm/_classes.py:32: FutureWarning: The default value of `dual` will change from `True` to `'auto'` in 1.5. Set the value of `dual` explicitly to suppress the warning.\n",
      "  warnings.warn(\n",
      "/Users/oluwaseuncardoso/Desktop/Projects/venv/lib/python3.9/site-packages/sklearn/svm/_classes.py:32: FutureWarning: The default value of `dual` will change from `True` to `'auto'` in 1.5. Set the value of `dual` explicitly to suppress the warning.\n",
      "  warnings.warn(\n",
      "/Users/oluwaseuncardoso/Desktop/Projects/venv/lib/python3.9/site-packages/sklearn/svm/_classes.py:32: FutureWarning: The default value of `dual` will change from `True` to `'auto'` in 1.5. Set the value of `dual` explicitly to suppress the warning.\n",
      "  warnings.warn(\n",
      "/Users/oluwaseuncardoso/Desktop/Projects/venv/lib/python3.9/site-packages/sklearn/svm/_classes.py:32: FutureWarning: The default value of `dual` will change from `True` to `'auto'` in 1.5. Set the value of `dual` explicitly to suppress the warning.\n",
      "  warnings.warn(\n"
     ]
    },
    {
     "name": "stdout",
     "output_type": "stream",
     "text": [
      "LinearSVC\n",
      "              precision    recall  f1-score   support\n",
      "\n",
      "        Deny       0.53      0.56      0.54       316\n",
      "       Grant       0.53      0.50      0.52       314\n",
      "\n",
      "    accuracy                           0.53       630\n",
      "   macro avg       0.53      0.53      0.53       630\n",
      "weighted avg       0.53      0.53      0.53       630\n",
      "\n",
      "LinearSVC=>tn:176, fp:140, fn:156, tp:158\n"
     ]
    },
    {
     "name": "stderr",
     "output_type": "stream",
     "text": [
      "/Users/oluwaseuncardoso/Desktop/Projects/venv/lib/python3.9/site-packages/sklearn/svm/_classes.py:32: FutureWarning: The default value of `dual` will change from `True` to `'auto'` in 1.5. Set the value of `dual` explicitly to suppress the warning.\n",
      "  warnings.warn(\n",
      "/Users/oluwaseuncardoso/Desktop/Projects/venv/lib/python3.9/site-packages/sklearn/svm/_classes.py:32: FutureWarning: The default value of `dual` will change from `True` to `'auto'` in 1.5. Set the value of `dual` explicitly to suppress the warning.\n",
      "  warnings.warn(\n",
      "/Users/oluwaseuncardoso/Desktop/Projects/venv/lib/python3.9/site-packages/sklearn/svm/_classes.py:32: FutureWarning: The default value of `dual` will change from `True` to `'auto'` in 1.5. Set the value of `dual` explicitly to suppress the warning.\n",
      "  warnings.warn(\n"
     ]
    }
   ],
   "source": [
    "cvAcurracies(support_X, support_Y, )"
   ]
  },
  {
   "cell_type": "code",
   "execution_count": 57,
   "metadata": {},
   "outputs": [
    {
     "name": "stdout",
     "output_type": "stream",
     "text": [
      "SGD\n",
      "              precision    recall  f1-score   support\n",
      "\n",
      "        Deny       0.51      0.74      0.60       306\n",
      "       Grant       0.43      0.22      0.29       279\n",
      "\n",
      "    accuracy                           0.49       585\n",
      "   macro avg       0.47      0.48      0.44       585\n",
      "weighted avg       0.47      0.49      0.45       585\n",
      "\n",
      "SGD=>tn:226, fp:80, fn:219, tp:60\n",
      "RFT\n",
      "              precision    recall  f1-score   support\n",
      "\n",
      "        Deny       0.53      0.84      0.65       306\n",
      "       Grant       0.49      0.17      0.25       279\n",
      "\n",
      "    accuracy                           0.52       585\n",
      "   macro avg       0.51      0.51      0.45       585\n",
      "weighted avg       0.51      0.52      0.46       585\n",
      "\n",
      "RFT=>tn:258, fp:48, fn:232, tp:47\n",
      "KNN\n",
      "              precision    recall  f1-score   support\n",
      "\n",
      "        Deny       0.52      0.61      0.56       306\n",
      "       Grant       0.48      0.38      0.42       279\n",
      "\n",
      "    accuracy                           0.50       585\n",
      "   macro avg       0.50      0.50      0.49       585\n",
      "weighted avg       0.50      0.50      0.50       585\n",
      "\n",
      "KNN=>tn:188, fp:118, fn:172, tp:107\n",
      "Logistic\n",
      "              precision    recall  f1-score   support\n",
      "\n",
      "        Deny       0.52      0.63      0.57       306\n",
      "       Grant       0.47      0.35      0.40       279\n",
      "\n",
      "    accuracy                           0.50       585\n",
      "   macro avg       0.49      0.49      0.49       585\n",
      "weighted avg       0.49      0.50      0.49       585\n",
      "\n",
      "Logistic=>tn:193, fp:113, fn:180, tp:99\n",
      "LinearSVC\n",
      "              precision    recall  f1-score   support\n",
      "\n",
      "        Deny       0.52      0.55      0.54       306\n",
      "       Grant       0.48      0.45      0.46       279\n",
      "\n",
      "    accuracy                           0.50       585\n",
      "   macro avg       0.50      0.50      0.50       585\n",
      "weighted avg       0.50      0.50      0.50       585\n",
      "\n",
      "LinearSVC=>tn:169, fp:137, fn:154, tp:125\n"
     ]
    }
   ],
   "source": [
    "cvAcurracies(opposition_X, opposition_Y, )"
   ]
  },
  {
   "cell_type": "code",
   "execution_count": 50,
   "metadata": {},
   "outputs": [
    {
     "data": {
      "text/plain": [
       "(585,)"
      ]
     },
     "execution_count": 50,
     "metadata": {},
     "output_type": "execute_result"
    }
   ],
   "source": [
    "Y.shape"
   ]
  },
  {
   "cell_type": "code",
   "execution_count": null,
   "metadata": {},
   "outputs": [],
   "source": []
  },
  {
   "cell_type": "code",
   "execution_count": null,
   "metadata": {},
   "outputs": [],
   "source": [
    "python3 p-script.py --data dataset/testset.csv --model_name KNN --feature tfidf\n",
    "\n",
    "python3 p-script.py --data dataset/testset.csv --model_name KNN --feature sentence_embeddings\n"
   ]
  },
  {
   "cell_type": "markdown",
   "metadata": {},
   "source": [
    "### Combination Deep Sets"
   ]
  },
  {
   "cell_type": "markdown",
   "metadata": {},
   "source": [
    "https://github.com/dpernes/deepsets-digitsum\n",
    "\n",
    "https://github.com/manzilzaheer/DeepSets/blob/master/DigitSum/image_sum.ipynb\n",
    "\n",
    "https://paperswithcode.com/paper/deep-sets\n",
    "\n",
    "https://github.com/lucidrains/perceiver-pytorch\n",
    "\n",
    "https://www.youtube.com/watch?v=P_xeshTnPZg\n",
    "\n",
    "https://paperswithcode.com/method/set-transformer\n",
    "\n",
    "https://arxiv.org/pdf/1810.00825.pdf\n",
    "\n",
    "https://arxiv.org/abs/1910.02421\n",
    "\n",
    "https://arxiv.org/pdf/1703.06114.pdf\n",
    "\n",
    "https://arxiv.org/pdf/2104.13478.pdf  --- read first"
   ]
  },
  {
   "cell_type": "markdown",
   "metadata": {},
   "source": []
  }
 ],
 "metadata": {
  "kernelspec": {
   "display_name": "venv",
   "language": "python",
   "name": "python3"
  },
  "language_info": {
   "codemirror_mode": {
    "name": "ipython",
    "version": 3
   },
   "file_extension": ".py",
   "mimetype": "text/x-python",
   "name": "python",
   "nbconvert_exporter": "python",
   "pygments_lexer": "ipython3",
   "version": "3.9.6"
  },
  "orig_nbformat": 4
 },
 "nbformat": 4,
 "nbformat_minor": 2
}
