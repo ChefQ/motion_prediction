{
 "cells": [
  {
   "cell_type": "code",
   "execution_count": 72,
   "metadata": {},
   "outputs": [],
   "source": [
    "from scipy.stats import wilcoxon , binom , binomtest\n",
    "\n",
    "import numpy as np\n",
    "import pandas as pd\n"
   ]
  },
  {
   "cell_type": "code",
   "execution_count": 91,
   "metadata": {},
   "outputs": [],
   "source": [
    "A = pd.read_csv('predictions/KNN-sentence_embeddings-supppredictions.csv')\n",
    "B = pd.read_csv('predictions/KNN-tfidf-supppredictions.csv')\n",
    "\n",
    "\n",
    "def signtest(A, B, alternative='two-sided'):\n",
    "\n",
    "    # Let's assume these are your two datasets\n",
    "    A = np.array(A, dtype=np.int32)\n",
    "    B = np.array(B, dtype=np.int32)\n",
    "\n",
    "    # Calculate the differences\n",
    "    diff = A - B\n",
    "\n",
    "    # Count the number of positive and negative differences\n",
    "    n_pos = np.sum(diff > 0)\n",
    "    n_neg = np.sum(diff < 0)\n",
    "\n",
    "    # The test statistic is the smaller of these two counts\n",
    "    n = min(n_pos, n_neg)\n",
    "\n",
    "    # The Sign Test is essentially a binomial test with p=0.5\n",
    "    #p_value = 2 * binom.cdf(n, n_pos + n_neg, 0.5)\n",
    "\n",
    "    return binomtest(n, n_pos + n_neg, 0.5, alternative=alternative)\n",
    "\n"
   ]
  },
  {
   "cell_type": "code",
   "execution_count": 93,
   "metadata": {},
   "outputs": [
    {
     "name": "stdout",
     "output_type": "stream",
     "text": [
      "Wilcoxon signed-rank test\n",
      "Two-sided:  WilcoxonResult(statistic=4794.0, pvalue=0.7353166906373405)\n",
      "Greater:  WilcoxonResult(statistic=5076.0, pvalue=0.36765834531867025)\n",
      "Less:  WilcoxonResult(statistic=5076.0, pvalue=0.6323416546813297)\n",
      "\n",
      "Sign Test\n",
      "Two-sided: BinomTestResult(k=68, n=140, alternative='two-sided', statistic=0.4857142857142857, pvalue=0.7999564140878652)\n",
      "Greater: BinomTestResult(k=68, n=140, alternative='greater', statistic=0.4857142857142857, pvalue=0.6636217481927447)\n",
      "Less: BinomTestResult(k=68, n=140, alternative='less', statistic=0.4857142857142857, pvalue=0.3999782070439326)\n",
      "\n",
      "binomial test if A is better than chance\n",
      "Two-sided: BinomTestResult(k=171, n=309, alternative='two-sided', statistic=0.5533980582524272, pvalue=0.06852250965384082)\n",
      "Greater: BinomTestResult(k=171, n=309, alternative='greater', statistic=0.5533980582524272, pvalue=0.03426125482692041)\n",
      "\n",
      "binomial test if B is better than chance\n",
      "Two-sided: BinomTestResult(k=167, n=309, alternative='two-sided', statistic=0.540453074433657, pvalue=0.17205521377986863)\n",
      "Greater: BinomTestResult(k=167, n=309, alternative='greater', statistic=0.540453074433657, pvalue=0.08602760688993431)\n"
     ]
    }
   ],
   "source": [
    "transformA = A[['predict', 'truth']].apply(lambda x : 1 if x['predict'] == x['truth'] else 0, axis=1)\n",
    "transformB = B[['predict', 'truth']].apply(lambda x : 1 if x['predict'] == x['truth'] else 0, axis=1)\n",
    "\n",
    "\n",
    "print(\"Wilcoxon signed-rank test\")\n",
    "print(\"Two-sided: \", wilcoxon(transformA, transformB, alternative='two-sided'))\n",
    "print(\"Greater: \", wilcoxon(transformA, transformB, alternative='greater'))\n",
    "print(\"Less: \", wilcoxon(transformA, transformB, alternative='less'))\n",
    "\n",
    "print()\n",
    "\n",
    "print(\"Sign Test\")\n",
    "print(f\"Two-sided: {signtest(transformA, transformB, alternative='two-sided')}\")\n",
    "print(f\"Greater: {signtest(transformA, transformB, alternative='greater')}\")\n",
    "print(f\"Less: {signtest(transformA, transformB, alternative='less')}\")\n",
    "print()\n",
    "\n",
    "\n",
    "print(\"binomial test if A is better than chance\")\n",
    "p = 0.5\n",
    "n = len(transformA)\n",
    "\n",
    "A_success = np.sum(transformA)\n",
    "\n",
    "print(f\"Two-sided: {binomtest(A_success, n, p, alternative='two-sided')}\") # 'greater', or 'less'.\n",
    "print(f\"Greater: {binomtest(A_success, n, p, alternative='greater')}\")\n",
    "\n",
    "print()\n",
    "\n",
    "print(\"binomial test if B is better than chance\")\n",
    "\n",
    "\n",
    "B_success = np.sum(transformB)\n",
    "\n",
    "print(f\"Two-sided: {binomtest(B_success, n, p, alternative='two-sided')}\") # 'greater', or 'less'.\n",
    "print(f\"Greater: {binomtest(B_success, n, p, alternative='greater')}\")\n",
    "\n",
    "\n",
    "\n",
    "\n",
    "\n"
   ]
  },
  {
   "cell_type": "code",
   "execution_count": 30,
   "metadata": {},
   "outputs": [
    {
     "data": {
      "text/plain": [
       "WilcoxonResult(statistic=4794.0, pvalue=0.7353166906373405)"
      ]
     },
     "execution_count": 30,
     "metadata": {},
     "output_type": "execute_result"
    }
   ],
   "source": [
    "transformA = A[['predict', 'truth']].apply(lambda x : 1 if x['predict'] == x['truth'] else 0, axis=1)\n",
    "transformB = B[['predict', 'truth']].apply(lambda x : 1 if x['predict'] == x['truth'] else 0, axis=1)\n",
    "\n",
    "res = wilcoxon(transformA, transformB, alternative='two-sided')\n",
    "\n",
    "res"
   ]
  },
  {
   "cell_type": "code",
   "execution_count": 75,
   "metadata": {},
   "outputs": [
    {
     "name": "stdout",
     "output_type": "stream",
     "text": [
      "two-sided: BinomTestResult(k=171, n=309, alternative='two-sided', statistic=0.5533980582524272, pvalue=0.06852250965384082)\n",
      "greater: BinomTestResult(k=171, n=309, alternative='greater', statistic=0.5533980582524272, pvalue=0.03426125482692041)\n",
      "less: BinomTestResult(k=171, n=309, alternative='less', statistic=0.5533980582524272, pvalue=0.973543290612755)\n"
     ]
    }
   ],
   "source": [
    "# how to map each row of a dataframe to a function\n",
    "n = transformA.shape[0]\n",
    "n_success = np.sum(transformA)\n",
    "p = 0.5\n",
    "print(f\"two-sided: {binomtest(n_success, n, p, alternative='two-sided')}\") # 'greater', or 'less'.\n",
    "print(f\"greater: {binomtest(n_success, n, p, alternative='greater')}\")\n"
   ]
  },
  {
   "cell_type": "code",
   "execution_count": 81,
   "metadata": {},
   "outputs": [
    {
     "data": {
      "text/plain": [
       "0.03426125482692041"
      ]
     },
     "execution_count": 81,
     "metadata": {},
     "output_type": "execute_result"
    }
   ],
   "source": []
  },
  {
   "cell_type": "code",
   "execution_count": 78,
   "metadata": {},
   "outputs": [
    {
     "data": {
      "text/plain": [
       "0.973543290612755"
      ]
     },
     "execution_count": 78,
     "metadata": {},
     "output_type": "execute_result"
    }
   ],
   "source": [
    "binom.cdf(n_success, n, p)"
   ]
  },
  {
   "cell_type": "code",
   "execution_count": null,
   "metadata": {},
   "outputs": [],
   "source": []
  }
 ],
 "metadata": {
  "kernelspec": {
   "display_name": "venv",
   "language": "python",
   "name": "python3"
  },
  "language_info": {
   "codemirror_mode": {
    "name": "ipython",
    "version": 3
   },
   "file_extension": ".py",
   "mimetype": "text/x-python",
   "name": "python",
   "nbconvert_exporter": "python",
   "pygments_lexer": "ipython3",
   "version": "3.9.6"
  }
 },
 "nbformat": 4,
 "nbformat_minor": 2
}
