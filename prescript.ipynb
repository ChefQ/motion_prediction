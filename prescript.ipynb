{
 "cells": [
  {
   "cell_type": "code",
   "execution_count": 1,
   "metadata": {},
   "outputs": [
    {
     "name": "stderr",
     "output_type": "stream",
     "text": [
      "/Users/oluwaseuncardoso/Desktop/Projects/venv/lib/python3.9/site-packages/tqdm/auto.py:22: TqdmWarning: IProgress not found. Please update jupyter and ipywidgets. See https://ipywidgets.readthedocs.io/en/stable/user_install.html\n",
      "  from .autonotebook import tqdm as notebook_tqdm\n"
     ]
    }
   ],
   "source": [
    "# %%\n",
    "from transformers import pipeline, set_seed\n",
    "from datasets import load_dataset\n",
    "import pandas as pd\n",
    "import json\n",
    "import regex as re\n",
    "import nltk\n",
    "from nltk.tokenize import sent_tokenize\n",
    "from transformers import PegasusForConditionalGeneration, PegasusTokenizer\n",
    "import ast\n",
    "import torch\n",
    "from huggingface_hub import scan_cache_dir\n",
    "import numpy as np\n",
    "from transformers import AutoTokenizer, AutoModel, AutoConfig\n",
    "import ast\n",
    "if torch.cuda.is_available():\n",
    "    device = torch.device('cuda')\n",
    "elif hasattr(torch.backends, 'mps') and torch.backends.mps.is_available():\n",
    "    device = torch.device('mps')\n",
    "else:\n",
    "    device = torch.device('cpu')\n",
    "import os\n",
    "from datasets import DatasetDict, concatenate_datasets\n",
    "from sentence_transformers import SentenceTransformer\n",
    "from joblib import dump, load\n",
    "import argparse\n",
    "import joblib\n",
    "\n",
    "#os.environ[\"CUDA_VISIBLE_DEVICES\"] = \"0,1\"\n",
    "\n",
    "#watch -n0.1 nvidia-smi"
   ]
  },
  {
   "cell_type": "code",
   "execution_count": 2,
   "metadata": {},
   "outputs": [],
   "source": [
    "### Load model\n",
    "\n",
    "cuda_count = torch.cuda.device_count()\n",
    "\n",
    "sentence_model = SentenceTransformer('sentence-transformers/all-MiniLM-L6-v2').to(device)\n",
    "\n",
    "# model_name  = \"Open-Orca/Mistral-7B-OpenOrca\" #\"mistralai/Mistral-7B-v0.1\n",
    "# config = AutoConfig.from_pretrained(model_name)\n",
    "# max_input_size =  config.max_position_embeddings  \n",
    "# tokenizer = AutoTokenizer.from_pretrained(model_name, device=device, )\n"
   ]
  },
  {
   "cell_type": "code",
   "execution_count": 2,
   "metadata": {},
   "outputs": [],
   "source": [
    "def getIdsType(brief_type):\n",
    "    def getIds(briefs):\n",
    "\n",
    "        briefs = briefs[brief_type]\n",
    "        briefs_ids = []\n",
    "        briefs = ast.literal_eval(briefs)\n",
    "        for brief in briefs:\n",
    "            iD = tokenizer(brief, max_length = max_input_size, padding='max_length', truncation= True ,return_tensors=\"pt\") #.to(device).input_ids \n",
    "            briefs_ids.append(iD)\n",
    "        return { f\"ids_{brief_type}\": briefs_ids }\n",
    "    return getIds\n",
    "\n",
    "\n",
    "def meanEmbeddings(briefs):\n",
    "\n",
    "    briefs = ast.literal_eval(briefs)\n",
    "    # Place model inputs on the GPU\n",
    "    embeddings = []\n",
    "    for brief in briefs:\n",
    "        argument = tokenizer(brief, max_length = max_input_size , padding=\"max_length\" ,truncation= True ,return_tensors=\"pt\").to(device) \n",
    "        # Extract last hidden states\n",
    "        model.eval()\n",
    "        with torch.no_grad():\n",
    "            argument = argument.to(device)\n",
    "            output = model(**argument)\n",
    "            argument = argument.to(device)\n",
    "            last_hidden_state = output.last_hidden_state\n",
    "\n",
    "\n",
    "        last_hidden_state = last_hidden_state.reshape(( max_input_size, config.hidden_size))\n",
    "        mask = argument['attention_mask'].to(device).bool()\n",
    "        mask = mask.reshape(max_input_size)\n",
    "        mask = mask.nonzero().squeeze()\n",
    "        hidden_states = torch.index_select(last_hidden_state, 0, mask)\n",
    "        \n",
    "        #print(last_hidden_state)\n",
    "        inputs = get_mean_embedding(hidden_states.cpu().to(torch.float64).numpy()).tolist()\n",
    "        del last_hidden_state\n",
    "        del output\n",
    "        del mask\n",
    "        del hidden_states\n",
    "        del argument\n",
    "        \n",
    "        torch.cuda.empty_cache()\n",
    "        torch.cuda.synchronize()\n",
    "                \n",
    "        embeddings.append(inputs)\n",
    "    # Return vector for [CLS] token\n",
    "    return embeddings\n",
    "\n",
    "def summerizeEmbeddings(brief):\n",
    "    embedding = sentence_model.encode(brief).tolist()\n",
    "    return embedding\n",
    "\n",
    "\n",
    "\n",
    "def get_mean_embedding(embedding):\n",
    "    return np.mean(embedding, axis=0)\n"
   ]
  },
  {
   "cell_type": "code",
   "execution_count": 3,
   "metadata": {},
   "outputs": [
    {
     "name": "stdout",
     "output_type": "stream",
     "text": [
      "Loading tfidf pipes\n"
     ]
    }
   ],
   "source": [
    "model_name = \"KNN\"\n",
    "feature = 'tfidf'\n",
    "#for model_name in [\"RFT\", \"SGD\"]: #[\"KNN\",\"LinearSVC\", \"Logistic\", \"RFT\", \"SGD\"]:\n",
    "data = 'dataset/testset.csv'\n",
    "if True: #__name__ == \"__main__\":\n",
    "    model_types = [\"KNN\",\"LinearSVC\", \"Logistic\", \"RFT\", \"SGD\"]\n",
    "    # parser = argparse.ArgumentParser(description='End to end pipeline from briefs to predictions')\n",
    "    # parser.add_argument('--model_name', default='RFT', help=f'There are {len(model_types)} models to choose from: {model_types}')\n",
    "    # parser.add_argument('--data',  default= 'embeddings.csv')\n",
    "    # parser.add_argument('--feature', default='sentence_embeddings', help='There are two features to choose from: sentence_embeddings and tfidf')\n",
    "\n",
    "\n",
    "\n",
    "    # arg = parser.parse_args()\n",
    "\n",
    "    testset = pd.read_csv(data, index_col=0)#pd.read_csv(arg.data, index_col=0)\n",
    "\n",
    "    testset[\"completion\"] = list(map(lambda x : x.strip() ,testset[\"completion\"].to_list()))\n",
    "    \n",
    "\n",
    "    summerize = True\n",
    "\n",
    "    if feature == 'sentence_embeddings':#if arg.feature == 'sentence_embeddings':\n",
    "        if 'embeddings' not in testset.columns:\n",
    "            if not summerize:\n",
    "                model  = \"mistralai/Mistral-7B-v0.1\"\n",
    "                config = AutoConfig.from_pretrained(model)\n",
    "                max_input_size =  config.max_position_embeddings  \n",
    "                tokenizer = AutoTokenizer.from_pretrained(model, device=device, )\n",
    "\n",
    "                tokenizer.pad_token = tokenizer.eos_token\n",
    "                model = AutoModel.from_pretrained(model, torch_dtype= torch.bfloat16 ).to(device)  #,device_map = \"auto\"\n",
    "                #parallel_model = torch.nn.DataParallel(model)\n",
    "            else:\n",
    "                sentence_model = SentenceTransformer('sentence-transformers/all-MiniLM-L6-v2').to(device)\n",
    "\n",
    "            testset['feature'] = \"\"\n",
    "            testset['feature'] = testset['prompt'].map(summerizeEmbeddings)\n",
    "            testset.to_csv('embeddings.csv')\n",
    "\n",
    "\n",
    "        else:\n",
    "            #get model for predictions\n",
    "            turn2list = lambda x: ast.literal_eval(x)\n",
    "            testset['feature'] = testset['embeddings'].map(turn2list)\n",
    "\n",
    "\n",
    "    elif feature == 'tfidf':# elif arg.feature == 'tfidf':\n",
    "        print(\"Loading tfidf pipes\")\n",
    "        support_pipe = joblib.load('pipes/support-tfidf.joblib')\n",
    "        opposition_pipe = joblib.load('pipes/oppose-tfidf.joblib')\n",
    "\n",
    "        testset['feature'] = \"\"\n",
    "\n",
    "        sparse_matrix = support_pipe.transform(testset[\"prompt\"].loc[testset[\"brief_type\"]==\"support\"]).toarray().tolist()\n",
    "\n",
    "        testset.loc[testset[\"brief_type\"]==\"support\" , 'feature'] = pd.Series( sparse_matrix , index = testset.loc[testset[\"brief_type\"]==\"support\"].index)\n",
    "\n",
    "        sparse_matrix = opposition_pipe.transform(testset[\"prompt\"].loc[testset[\"brief_type\"]==\"opposition\"]).toarray().tolist()\n",
    "\n",
    "        testset.loc[testset[\"brief_type\"]==\"opposition\", 'feature'] =  pd.Series( sparse_matrix , index = testset.loc[testset[\"brief_type\"]==\"opposition\"].index)\n",
    "        \n",
    "\n",
    "\n",
    "    x_support = np.array(testset[\"feature\"].loc[(testset[\"brief_type\"]==\"support\") & (testset[\"data_type\"]==\"test\") ].to_list())  #  np.array(testset['file_path'].to_list())\n",
    "    x_opposition = np.array(testset[\"feature\"].loc[(testset[\"brief_type\"]==\"opposition\") & (testset[\"data_type\"]==\"test\") ].to_list())  #  np.array(testset['file_path'].to_list())\n",
    "        \n",
    "\n",
    "    #get model for predictions\n",
    "\n",
    "    support_model_path = f'models/{model_name}-support-{feature}.pkl'\n",
    "    opposition_model_path = f'models/{model_name}-opposition-{feature}.pkl'\n",
    "\n",
    "    clfs = {\"sup\" : load(support_model_path)  , \"opp\" : load(opposition_model_path) }\n",
    "\n",
    "    if hasattr(clfs[\"sup\"], 'predict_proba') and callable(getattr(clfs[\"sup\"], 'predict_proba')):\n",
    "        scores_support = clfs['sup'].predict_proba(x_support)\n",
    "        scores_opposition = clfs['opp'].predict_proba(x_opposition)\n",
    "    else:\n",
    "        scores_support = clfs['sup'].decision_function(x_support)\n",
    "        scores_opposition = clfs['opp'].decision_function(x_opposition)\n",
    "\n",
    "    prediction_opposition = clfs['opp'].predict(x_opposition)\n",
    "    prediction_support = clfs['sup'].predict(x_support)\n",
    "\n",
    "    testset.rename(columns={\"file_name\": \"brief\",\"completion\": \"truth\"} , inplace = True  )\n",
    "\n",
    "    support = testset.loc[(testset[\"brief_type\"]==\"support\") & (testset[\"data_type\"]==\"test\") ].copy()\n",
    "    opposition = testset.loc[(testset[\"brief_type\"]==\"opposition\") & (testset[\"data_type\"]==\"test\") ].copy()\n",
    "\n",
    "    support.drop(['data_type','prompt' , 'brief_type','file_path','feature'], axis=1, inplace=True)\n",
    "    opposition.drop(['data_type', 'prompt' , 'brief_type','file_path','feature'], axis=1, inplace=True)\n",
    "\n",
    "    support['predict'] = \"\"\n",
    "    opposition['predict'] = \"\"\n",
    "\n",
    "    support['predict'] = prediction_support\n",
    "    opposition['predict'] = prediction_opposition\n",
    "\n",
    "    support['score'] = \"\"\n",
    "    opposition['score'] = \"\"\n",
    "\n",
    "    support['score'] = list(map( np.max ,scores_support.tolist()))\n",
    "    opposition['score']= list(map(  np.max ,scores_opposition.tolist() ))\n",
    "\n",
    "    support = support[[\"brief\",\"predict\",\"score\",\"truth\"]]\n",
    "    opposition = opposition[[\"brief\",\"predict\",\"score\",\"truth\"]]\n",
    "\n",
    "    # support.to_csv(f'predictions/{model_name}-{feature}-supppredictions.csv' , index = False)\n",
    "    # opposition.to_csv(f'predictions/{model_name}-{feature}-oppopredictions.csv', index = False)\n"
   ]
  },
  {
   "cell_type": "code",
   "execution_count": 13,
   "metadata": {},
   "outputs": [
    {
     "data": {
      "text/plain": [
       "(array([[0.4, 0.6]]), array(['grant'], dtype='<U163422'))"
      ]
     },
     "execution_count": 13,
     "metadata": {},
     "output_type": "execute_result"
    }
   ],
   "source": [
    "n = 1\n",
    "clfs['sup'].predict_proba(x_support[n].reshape(1,-1)), clfs['sup'].predict(x_support[n].reshape(1,-1))"
   ]
  },
  {
   "cell_type": "code",
   "execution_count": 14,
   "metadata": {},
   "outputs": [
    {
     "data": {
      "text/plain": [
       "(array([[0.8, 0.2]]), array(['deny'], dtype='<U163422'))"
      ]
     },
     "execution_count": 14,
     "metadata": {},
     "output_type": "execute_result"
    }
   ],
   "source": [
    "n = 0\n",
    "clfs['sup'].predict_proba(x_support[n].reshape(1,-1)), clfs['sup'].predict(x_support[n].reshape(1,-1))"
   ]
  },
  {
   "cell_type": "code",
   "execution_count": 108,
   "metadata": {},
   "outputs": [],
   "source": [
    "testset['feature'] = \"\"\n",
    "\n",
    "sparse_matrix = support_pipe.transform(testset[\"prompt\"].loc[testset[\"brief_type\"]==\"support\"]).toarray().tolist()\n",
    "\n",
    "testset.loc[testset[\"brief_type\"]==\"support\" , 'feature'] = pd.Series( sparse_matrix , index = testset.loc[testset[\"brief_type\"]==\"support\"].index)\n",
    "\n",
    "sparse_matrix = opposition_pipe.transform(testset[\"prompt\"].loc[testset[\"brief_type\"]==\"opposition\"]).toarray().tolist()\n",
    "\n",
    "testset.loc[testset[\"brief_type\"]==\"opposition\", 'feature'] =  pd.Series( sparse_matrix , index = testset.loc[testset[\"brief_type\"]==\"opposition\"].index)\n",
    "\n"
   ]
  },
  {
   "cell_type": "code",
   "execution_count": 102,
   "metadata": {},
   "outputs": [
    {
     "data": {
      "text/plain": [
       "1       [0.0, 0.0, 0.0, 0.0, 0.0, 0.0, 0.0, 0.0, 0.0, ...\n",
       "3       [0.015048255923431753, 0.0, 0.0, 0.0, 0.0, 0.0...\n",
       "5       [0.0, 0.0, 0.0, 0.0, 0.0, 0.0, 0.0, 0.0, 0.0, ...\n",
       "7       [0.0, 0.007986306346476821, 0.0, 0.0, 0.0, 0.0...\n",
       "9       [0.011928884238130606, 0.0, 0.0, 0.0, 0.0, 0.0...\n",
       "                              ...                        \n",
       "1206    [0.0, 0.0, 0.0, 0.0, 0.0, 0.0, 0.0, 0.0, 0.0, ...\n",
       "1208    [0.0, 0.0, 0.0, 0.0, 0.0, 0.0, 0.0, 0.0, 0.0, ...\n",
       "1210    [0.0, 0.0, 0.0, 0.0, 0.0, 0.0, 0.0, 0.0, 0.0, ...\n",
       "1212    [0.003816286650750082, 0.06086658151642782, 0....\n",
       "1214    [0.0, 0.0, 0.0, 0.0, 0.0, 0.0, 0.0, 0.0, 0.0, ...\n",
       "Name: feature, Length: 585, dtype: object"
      ]
     },
     "execution_count": 102,
     "metadata": {},
     "output_type": "execute_result"
    }
   ],
   "source": [
    "testset.loc[testset[\"brief_type\"]==\"opposition\", 'feature'] "
   ]
  },
  {
   "cell_type": "code",
   "execution_count": 105,
   "metadata": {},
   "outputs": [
    {
     "data": {
      "text/plain": [
       "1       [0.0, 0.0, 0.0, 0.0, 0.0, 0.0, 0.0, 0.0, 0.0, ...\n",
       "3       [0.015048255923431753, 0.0, 0.0, 0.0, 0.0, 0.0...\n",
       "5       [0.0, 0.0, 0.0, 0.0, 0.0, 0.0, 0.0, 0.0, 0.0, ...\n",
       "7       [0.0, 0.007986306346476821, 0.0, 0.0, 0.0, 0.0...\n",
       "9       [0.011928884238130606, 0.0, 0.0, 0.0, 0.0, 0.0...\n",
       "                              ...                        \n",
       "1206    [0.0, 0.0, 0.0, 0.0, 0.0, 0.0, 0.0, 0.0, 0.0, ...\n",
       "1208    [0.0, 0.0, 0.0, 0.0, 0.0, 0.0, 0.0, 0.0, 0.0, ...\n",
       "1210    [0.0, 0.0, 0.0, 0.0, 0.0, 0.0, 0.0, 0.0, 0.0, ...\n",
       "1212    [0.003816286650750082, 0.06086658151642782, 0....\n",
       "1214    [0.0, 0.0, 0.0, 0.0, 0.0, 0.0, 0.0, 0.0, 0.0, ...\n",
       "Name: feature, Length: 585, dtype: object"
      ]
     },
     "execution_count": 105,
     "metadata": {},
     "output_type": "execute_result"
    }
   ],
   "source": [
    "testset.loc[testset[\"brief_type\"]==\"opposition\", 'feature'] "
   ]
  },
  {
   "cell_type": "code",
   "execution_count": 94,
   "metadata": {},
   "outputs": [
    {
     "data": {
      "text/plain": [
       "0      [0.0, 0.0, 0.0, 0.0, 0.0, 0.0, 0.0, 0.0, 0.0, ...\n",
       "1      [0.015048255923431753, 0.0, 0.0, 0.0, 0.0, 0.0...\n",
       "2      [0.0, 0.0, 0.0, 0.0, 0.0, 0.0, 0.0, 0.0, 0.0, ...\n",
       "3      [0.0, 0.007986306346476821, 0.0, 0.0, 0.0, 0.0...\n",
       "4      [0.011928884238130606, 0.0, 0.0, 0.0, 0.0, 0.0...\n",
       "                             ...                        \n",
       "580    [0.0, 0.0, 0.0, 0.0, 0.0, 0.0, 0.0, 0.0, 0.0, ...\n",
       "581    [0.0, 0.0, 0.0, 0.0, 0.0, 0.0, 0.0, 0.0, 0.0, ...\n",
       "582    [0.0, 0.0, 0.0, 0.0, 0.0, 0.0, 0.0, 0.0, 0.0, ...\n",
       "583    [0.003816286650750082, 0.06086658151642782, 0....\n",
       "584    [0.0, 0.0, 0.0, 0.0, 0.0, 0.0, 0.0, 0.0, 0.0, ...\n",
       "Length: 585, dtype: object"
      ]
     },
     "execution_count": 94,
     "metadata": {},
     "output_type": "execute_result"
    }
   ],
   "source": [
    "stuff = pd.Series( sparse_matrix.tolist() )\n",
    "stuff"
   ]
  },
  {
   "cell_type": "code",
   "execution_count": 104,
   "metadata": {},
   "outputs": [],
   "source": [
    "testset['feature'] = \"\"\n",
    "sparse_matrix = opposition_pipe.transform(testset[\"prompt\"].loc[testset[\"brief_type\"]==\"opposition\"]).toarray().tolist()\n",
    "\n",
    "testset.loc[testset[\"brief_type\"]==\"opposition\", 'feature'] =  pd.Series( sparse_matrix , index= testset.loc[testset[\"brief_type\"]==\"opposition\"].index) "
   ]
  },
  {
   "cell_type": "code",
   "execution_count": 59,
   "metadata": {},
   "outputs": [
    {
     "data": {
      "text/plain": [
       "(pandas.core.series.Series, pandas.core.series.Series)"
      ]
     },
     "execution_count": 59,
     "metadata": {},
     "output_type": "execute_result"
    }
   ],
   "source": [
    "type(testset.loc[testset[\"brief_type\"]==\"support\", 'feature']) ,  type(testset['feature'].loc[testset[\"brief_type\"]==\"support\"])\n"
   ]
  },
  {
   "cell_type": "code",
   "execution_count": 66,
   "metadata": {},
   "outputs": [
    {
     "name": "stderr",
     "output_type": "stream",
     "text": [
      "/var/folders/jd/_y9k6hnx4658pxlgs6r0d1pr0000gn/T/ipykernel_62893/585839160.py:1: SettingWithCopyWarning: \n",
      "A value is trying to be set on a copy of a slice from a DataFrame\n",
      "\n",
      "See the caveats in the documentation: https://pandas.pydata.org/pandas-docs/stable/user_guide/indexing.html#returning-a-view-versus-a-copy\n",
      "  testset['feature'].loc[testset[\"brief_type\"]==\"support\"] = sparse_matrix.tolist()\n"
     ]
    }
   ],
   "source": [
    "testset['feature'].loc[testset[\"brief_type\"]==\"support\"] = sparse_matrix.tolist()"
   ]
  },
  {
   "cell_type": "code",
   "execution_count": 73,
   "metadata": {},
   "outputs": [
    {
     "data": {
      "text/plain": [
       "0       [0.0, 0.0, 0.0, 0.0, 0.0, 0.0, 0.0, 0.0, 0.0, ...\n",
       "2       [0.0, 0.0, 0.0, 0.0, 0.0, 0.0, 0.0, 0.0, 0.0, ...\n",
       "4       [0.014406859280560716, 0.008113810186061055, 0...\n",
       "6       [0.0, 0.0, 0.0, 0.0, 0.0, 0.0, 0.0, 0.0, 0.0, ...\n",
       "8       [0.009605672960387038, 0.005409826360636613, 0...\n",
       "                              ...                        \n",
       "1205                                                  NaN\n",
       "1207                                                  NaN\n",
       "1209                                                  NaN\n",
       "1211                                                  NaN\n",
       "1213                                                  NaN\n",
       "Name: feature, Length: 630, dtype: object"
      ]
     },
     "execution_count": 73,
     "metadata": {},
     "output_type": "execute_result"
    }
   ],
   "source": [
    "testset.loc[testset[\"brief_type\"]==\"support\", 'feature']"
   ]
  },
  {
   "cell_type": "code",
   "execution_count": 70,
   "metadata": {},
   "outputs": [],
   "source": [
    "stuff = pd.Series([[i,i+9] for i in range(630)] ) # {\"stuff\" :[[i,i+9] for i in range(630)]}\n",
    "\n",
    "testset.loc[testset[\"brief_type\"]==\"support\", 'feature'] = stuff"
   ]
  },
  {
   "cell_type": "code",
   "execution_count": 84,
   "metadata": {},
   "outputs": [],
   "source": [
    "stuff = [i for i in range(630)] #len(sparse_matrix.tolist())"
   ]
  },
  {
   "cell_type": "code",
   "execution_count": 83,
   "metadata": {},
   "outputs": [],
   "source": [
    "\n",
    "testset.loc[testset[\"brief_type\"]==\"support\", 'feature'] = pd.Series( sparse_matrix.tolist() )"
   ]
  },
  {
   "cell_type": "code",
   "execution_count": null,
   "metadata": {},
   "outputs": [],
   "source": [
    "# 1. run experiment with the last hidden state with just support\n",
    "# TFI-DF and Mistral7 embeddings, the claim is there isn't any statistical difference between the two\n",
    "# hypothesis,\n",
    "\n",
    "    # is having more information better than less information in classification\n",
    "#hypothesis 1:\n",
    "    # having more information is better than less information\n",
    "#hypotheisis 2:\n",
    "    # are TFI-DF embeddings better than Mistral7 embeddings\n",
    "# After running experiment s"
   ]
  }
 ],
 "metadata": {
  "kernelspec": {
   "display_name": "venv",
   "language": "python",
   "name": "python3"
  },
  "language_info": {
   "codemirror_mode": {
    "name": "ipython",
    "version": 3
   },
   "file_extension": ".py",
   "mimetype": "text/x-python",
   "name": "python",
   "nbconvert_exporter": "python",
   "pygments_lexer": "ipython3",
   "version": "3.9.6"
  },
  "orig_nbformat": 4
 },
 "nbformat": 4,
 "nbformat_minor": 2
}
