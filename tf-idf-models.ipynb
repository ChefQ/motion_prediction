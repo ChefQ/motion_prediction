{
 "cells": [
  {
   "cell_type": "code",
   "execution_count": 2,
   "metadata": {},
   "outputs": [],
   "source": [
    "from sklearn.feature_extraction.text import CountVectorizer\n",
    "import pandas as pd\n",
    "import numpy as np\n",
    "from sklearn.feature_extraction.text import TfidfVectorizer\n",
    "import ast\n",
    "from sklearn.linear_model import SGDClassifier\n",
    "from sklearn.pipeline import Pipeline\n",
    "from sklearn.feature_extraction.text import TfidfTransformer\n",
    "from sklearn.linear_model import LogisticRegression\n",
    "from sklearn.neighbors import KNeighborsClassifier\n",
    "from sklearn.ensemble import RandomForestClassifier\n",
    "from matplotlib import pyplot as plt\n",
    "from sklearn.metrics import confusion_matrix\n",
    "import seaborn as sns\n",
    "from sklearn.svm import LinearSVC\n",
    "import torch"
   ]
  },
  {
   "cell_type": "code",
   "execution_count": 5,
   "metadata": {},
   "outputs": [
    {
     "data": {
      "text/html": [
       "<div>\n",
       "<style scoped>\n",
       "    .dataframe tbody tr th:only-of-type {\n",
       "        vertical-align: middle;\n",
       "    }\n",
       "\n",
       "    .dataframe tbody tr th {\n",
       "        vertical-align: top;\n",
       "    }\n",
       "\n",
       "    .dataframe thead th {\n",
       "        text-align: right;\n",
       "    }\n",
       "</style>\n",
       "<table border=\"1\" class=\"dataframe\">\n",
       "  <thead>\n",
       "    <tr style=\"text-align: right;\">\n",
       "      <th></th>\n",
       "      <th>Unnamed: 0</th>\n",
       "      <th>support</th>\n",
       "      <th>opposition</th>\n",
       "      <th>outcome</th>\n",
       "      <th>folder_id</th>\n",
       "      <th>case_path</th>\n",
       "      <th>data_type</th>\n",
       "      <th>support_mean_embeddings</th>\n",
       "      <th>support_first_embeddings</th>\n",
       "      <th>opposition_first_embeddings</th>\n",
       "      <th>opposition_mean_embeddings</th>\n",
       "    </tr>\n",
       "  </thead>\n",
       "  <tbody>\n",
       "    <tr>\n",
       "      <th>0</th>\n",
       "      <td>0</td>\n",
       "      <td>['Case 9:11-cv-80416-KLR Document 737 Entered ...</td>\n",
       "      <td>['Case 9:11-cv-80416-KLR Document 743 Entered ...</td>\n",
       "      <td>deny</td>\n",
       "      <td>1013</td>\n",
       "      <td>/mnt/a536sing/sdl1/gvc-recap/1/gov.uscourts.fl...</td>\n",
       "      <td>train</td>\n",
       "      <td>[[2.9199183238943087, 3.355921688891696, -0.84...</td>\n",
       "      <td>[[-1.6875, 0.51171875, -1.71875, 2.3125, -0.10...</td>\n",
       "      <td>[[-1.6875, 0.51171875, -1.71875, 2.3125, -0.10...</td>\n",
       "      <td>[[3.074567674122545, 3.114687157892118, -1.050...</td>\n",
       "    </tr>\n",
       "    <tr>\n",
       "      <th>1</th>\n",
       "      <td>1</td>\n",
       "      <td>['IN THE UNITED STATES DISTRICT COURT\\nFOR THE...</td>\n",
       "      <td>['I i .\\nt | | , : tl\\n\\n \\n\\n \\n\\n \\n\\n \\n\\n ...</td>\n",
       "      <td>deny</td>\n",
       "      <td>909</td>\n",
       "      <td>/mnt/a536sing/sdag1/gvc-recap/0/gov.uscourts.m...</td>\n",
       "      <td>train</td>\n",
       "      <td>[[2.4045591442012766, 2.9918359641107544, -0.1...</td>\n",
       "      <td>[[-1.6875, 0.51171875, -1.71875, 2.3125, -0.10...</td>\n",
       "      <td>[[-1.6875, 0.51171875, -1.71875, 2.3125, -0.10...</td>\n",
       "      <td>[[2.3855743246506314, 2.708639955402726, -1.21...</td>\n",
       "    </tr>\n",
       "    <tr>\n",
       "      <th>2</th>\n",
       "      <td>2</td>\n",
       "      <td>[\"Case 1:08-cv-11908-RWZ Document 27\\n\\nFiled ...</td>\n",
       "      <td>['Case 1:08-cv-11908-RWZ Document 29\\n\\nFiled ...</td>\n",
       "      <td>grant</td>\n",
       "      <td>507</td>\n",
       "      <td>/mnt/a536sing/sdg1/gvc-recap/6/gov.uscourts.ma...</td>\n",
       "      <td>train</td>\n",
       "      <td>[[2.093125776399092, 2.3765899005614584, -1.37...</td>\n",
       "      <td>[[-1.6875, 0.51171875, -1.71875, 2.3125, -0.10...</td>\n",
       "      <td>[[-1.6875, 0.51171875, -1.71875, 2.3125, -0.10...</td>\n",
       "      <td>[[1.695646567081523, 2.4249613514952837, -0.89...</td>\n",
       "    </tr>\n",
       "    <tr>\n",
       "      <th>3</th>\n",
       "      <td>3</td>\n",
       "      <td>['Case 1:11-cv-10802-WGY Document 13 Filed 06/...</td>\n",
       "      <td>['Case 1:11-cv-10802-WGY Document 21\\n\\nFiled ...</td>\n",
       "      <td>deny</td>\n",
       "      <td>158</td>\n",
       "      <td>/mnt/a536sing/sdc1/gvc-recap/3/gov.uscourts.ma...</td>\n",
       "      <td>test</td>\n",
       "      <td>[[4.118529608640162, 2.1361552745372325, 0.257...</td>\n",
       "      <td>[[-1.6875, 0.51171875, -1.71875, 2.3125, -0.10...</td>\n",
       "      <td>[[-1.6875, 0.51171875, -1.71875, 2.3125, -0.10...</td>\n",
       "      <td>[[3.7049434945017192, 3.4614336281439004, -1.0...</td>\n",
       "    </tr>\n",
       "    <tr>\n",
       "      <th>4</th>\n",
       "      <td>4</td>\n",
       "      <td>['10\\n11\\n12\\n13\\n14\\n15\\n16\\n17\\n18\\n19\\n20\\n...</td>\n",
       "      <td>['Case 3:07-cv-05739-SC\\n\\n1\\n2\\n3\\n4\\n\\nDocum...</td>\n",
       "      <td>deny</td>\n",
       "      <td>906</td>\n",
       "      <td>/mnt/a536sing/sdaa1/gvc-recap/8/gov.uscourts.c...</td>\n",
       "      <td>train</td>\n",
       "      <td>[[2.826896250907953, 2.859579942025224, -1.030...</td>\n",
       "      <td>[[-1.6875, 0.51171875, -1.71875, 2.3125, -0.10...</td>\n",
       "      <td>[[-1.6875, 0.51171875, -1.71875, 2.3125, -0.10...</td>\n",
       "      <td>[[2.9036702480091905, 2.7970401371750877, -1.6...</td>\n",
       "    </tr>\n",
       "    <tr>\n",
       "      <th>...</th>\n",
       "      <td>...</td>\n",
       "      <td>...</td>\n",
       "      <td>...</td>\n",
       "      <td>...</td>\n",
       "      <td>...</td>\n",
       "      <td>...</td>\n",
       "      <td>...</td>\n",
       "      <td>...</td>\n",
       "      <td>...</td>\n",
       "      <td>...</td>\n",
       "      <td>...</td>\n",
       "    </tr>\n",
       "    <tr>\n",
       "      <th>45</th>\n",
       "      <td>495</td>\n",
       "      <td>['Case 2:15-cr-00198-GZS Document 34 Filed 05/...</td>\n",
       "      <td>['Case 2:15-cr-00198-GZS Document 40 Filed 06/...</td>\n",
       "      <td>deny</td>\n",
       "      <td>636</td>\n",
       "      <td>/mnt/a536sing/sdal1/gvc-recap/5/gov.uscourts.m...</td>\n",
       "      <td>train</td>\n",
       "      <td>[[3.6032170917602864, 4.437865639243351, -0.61...</td>\n",
       "      <td>[[-1.6875, 0.51171875, -1.71875, 2.3125, -0.10...</td>\n",
       "      <td>[[-1.6875, 0.51171875, -1.71875, 2.3125, -0.10...</td>\n",
       "      <td>[[3.8499574519674, 3.5468151730006303, -0.2596...</td>\n",
       "    </tr>\n",
       "    <tr>\n",
       "      <th>46</th>\n",
       "      <td>496</td>\n",
       "      <td>[' \\n\\n \\n\\nCase 1:10-cv-00569-RJA-LGF Documen...</td>\n",
       "      <td>['Case 1:10-cv-00569-RJA-LGF Document 598 File...</td>\n",
       "      <td>deny</td>\n",
       "      <td>894</td>\n",
       "      <td>/mnt/a536sing/sdo1/gvc-recap/1/gov.uscourts.ny...</td>\n",
       "      <td>test</td>\n",
       "      <td>[[2.193711323088739, 3.1933049794457595, -1.23...</td>\n",
       "      <td>[[-1.6875, 0.51171875, -1.71875, 2.3125, -0.10...</td>\n",
       "      <td>[[-1.6875, 0.51171875, -1.71875, 2.3125, -0.10...</td>\n",
       "      <td>[[3.165077249140219, 3.02601168680439, -0.8918...</td>\n",
       "    </tr>\n",
       "    <tr>\n",
       "      <th>47</th>\n",
       "      <td>497</td>\n",
       "      <td>['Case 6:10-cv-00111-LED Document 325\\n\\nFiled...</td>\n",
       "      <td>['Case 6:10-cv-00111-LED Document 333\\n\\nFiled...</td>\n",
       "      <td>deny</td>\n",
       "      <td>621</td>\n",
       "      <td>/mnt/a536sing/sdh1/gvc-recap/9/gov.uscourts.tx...</td>\n",
       "      <td>test</td>\n",
       "      <td>[[4.127839783173225, 3.27884864329649, -0.3562...</td>\n",
       "      <td>[[-1.6875, 0.51171875, -1.71875, 2.3125, -0.10...</td>\n",
       "      <td>[[-1.6875, 0.51171875, -1.71875, 2.3125, -0.10...</td>\n",
       "      <td>[[2.734606815526215, 2.5355846479721413, -1.08...</td>\n",
       "    </tr>\n",
       "    <tr>\n",
       "      <th>48</th>\n",
       "      <td>498</td>\n",
       "      <td>['Helio LLC v. Palm, Inc. Doc. 3\\n\\n \\n\\n \\n\\n...</td>\n",
       "      <td>['Helio LLC v. Palm, lnc.\\n\\n60373/2021440.1\\n...</td>\n",
       "      <td>deny</td>\n",
       "      <td>574</td>\n",
       "      <td>/mnt/a536sing/sdc1/gvc-recap/2/gov.uscourts.ca...</td>\n",
       "      <td>train</td>\n",
       "      <td>[[1.6816054850809905, 1.351619176500093, 0.567...</td>\n",
       "      <td>[[-1.6875, 0.51171875, -1.71875, 2.3125, -0.10...</td>\n",
       "      <td>[[-1.6875, 0.51171875, -1.71875, 2.3125, -0.10...</td>\n",
       "      <td>[[1.7267989111363713, 1.2854233714883134, 1.26...</td>\n",
       "    </tr>\n",
       "    <tr>\n",
       "      <th>49</th>\n",
       "      <td>499</td>\n",
       "      <td>['Case 1:11-cv-00696-RLW Document 4 Filed 04/0...</td>\n",
       "      <td>['Case 1:11-cv-00696-RLW Document 22 Filed 04/...</td>\n",
       "      <td>grant</td>\n",
       "      <td>711</td>\n",
       "      <td>/mnt/a536sing/sdh1/gvc-recap/4/gov.uscourts.dc...</td>\n",
       "      <td>test</td>\n",
       "      <td>[[2.588185017903646, 1.6622014567057293, 0.160...</td>\n",
       "      <td>[[-1.6875, 0.51171875, -1.71875, 2.3125, -0.10...</td>\n",
       "      <td>[[-1.6875, 0.51171875, -1.71875, 2.3125, -0.10...</td>\n",
       "      <td>[[3.7484843771533085, 3.115756515168796, -1.66...</td>\n",
       "    </tr>\n",
       "  </tbody>\n",
       "</table>\n",
       "<p>500 rows × 11 columns</p>\n",
       "</div>"
      ],
      "text/plain": [
       "    Unnamed: 0                                            support  \\\n",
       "0            0  ['Case 9:11-cv-80416-KLR Document 737 Entered ...   \n",
       "1            1  ['IN THE UNITED STATES DISTRICT COURT\\nFOR THE...   \n",
       "2            2  [\"Case 1:08-cv-11908-RWZ Document 27\\n\\nFiled ...   \n",
       "3            3  ['Case 1:11-cv-10802-WGY Document 13 Filed 06/...   \n",
       "4            4  ['10\\n11\\n12\\n13\\n14\\n15\\n16\\n17\\n18\\n19\\n20\\n...   \n",
       "..         ...                                                ...   \n",
       "45         495  ['Case 2:15-cr-00198-GZS Document 34 Filed 05/...   \n",
       "46         496  [' \\n\\n \\n\\nCase 1:10-cv-00569-RJA-LGF Documen...   \n",
       "47         497  ['Case 6:10-cv-00111-LED Document 325\\n\\nFiled...   \n",
       "48         498  ['Helio LLC v. Palm, Inc. Doc. 3\\n\\n \\n\\n \\n\\n...   \n",
       "49         499  ['Case 1:11-cv-00696-RLW Document 4 Filed 04/0...   \n",
       "\n",
       "                                           opposition outcome  folder_id  \\\n",
       "0   ['Case 9:11-cv-80416-KLR Document 743 Entered ...    deny       1013   \n",
       "1   ['I i .\\nt | | , : tl\\n\\n \\n\\n \\n\\n \\n\\n \\n\\n ...    deny        909   \n",
       "2   ['Case 1:08-cv-11908-RWZ Document 29\\n\\nFiled ...   grant        507   \n",
       "3   ['Case 1:11-cv-10802-WGY Document 21\\n\\nFiled ...    deny        158   \n",
       "4   ['Case 3:07-cv-05739-SC\\n\\n1\\n2\\n3\\n4\\n\\nDocum...    deny        906   \n",
       "..                                                ...     ...        ...   \n",
       "45  ['Case 2:15-cr-00198-GZS Document 40 Filed 06/...    deny        636   \n",
       "46  ['Case 1:10-cv-00569-RJA-LGF Document 598 File...    deny        894   \n",
       "47  ['Case 6:10-cv-00111-LED Document 333\\n\\nFiled...    deny        621   \n",
       "48  ['Helio LLC v. Palm, lnc.\\n\\n60373/2021440.1\\n...    deny        574   \n",
       "49  ['Case 1:11-cv-00696-RLW Document 22 Filed 04/...   grant        711   \n",
       "\n",
       "                                            case_path data_type  \\\n",
       "0   /mnt/a536sing/sdl1/gvc-recap/1/gov.uscourts.fl...     train   \n",
       "1   /mnt/a536sing/sdag1/gvc-recap/0/gov.uscourts.m...     train   \n",
       "2   /mnt/a536sing/sdg1/gvc-recap/6/gov.uscourts.ma...     train   \n",
       "3   /mnt/a536sing/sdc1/gvc-recap/3/gov.uscourts.ma...      test   \n",
       "4   /mnt/a536sing/sdaa1/gvc-recap/8/gov.uscourts.c...     train   \n",
       "..                                                ...       ...   \n",
       "45  /mnt/a536sing/sdal1/gvc-recap/5/gov.uscourts.m...     train   \n",
       "46  /mnt/a536sing/sdo1/gvc-recap/1/gov.uscourts.ny...      test   \n",
       "47  /mnt/a536sing/sdh1/gvc-recap/9/gov.uscourts.tx...      test   \n",
       "48  /mnt/a536sing/sdc1/gvc-recap/2/gov.uscourts.ca...     train   \n",
       "49  /mnt/a536sing/sdh1/gvc-recap/4/gov.uscourts.dc...      test   \n",
       "\n",
       "                              support_mean_embeddings  \\\n",
       "0   [[2.9199183238943087, 3.355921688891696, -0.84...   \n",
       "1   [[2.4045591442012766, 2.9918359641107544, -0.1...   \n",
       "2   [[2.093125776399092, 2.3765899005614584, -1.37...   \n",
       "3   [[4.118529608640162, 2.1361552745372325, 0.257...   \n",
       "4   [[2.826896250907953, 2.859579942025224, -1.030...   \n",
       "..                                                ...   \n",
       "45  [[3.6032170917602864, 4.437865639243351, -0.61...   \n",
       "46  [[2.193711323088739, 3.1933049794457595, -1.23...   \n",
       "47  [[4.127839783173225, 3.27884864329649, -0.3562...   \n",
       "48  [[1.6816054850809905, 1.351619176500093, 0.567...   \n",
       "49  [[2.588185017903646, 1.6622014567057293, 0.160...   \n",
       "\n",
       "                             support_first_embeddings  \\\n",
       "0   [[-1.6875, 0.51171875, -1.71875, 2.3125, -0.10...   \n",
       "1   [[-1.6875, 0.51171875, -1.71875, 2.3125, -0.10...   \n",
       "2   [[-1.6875, 0.51171875, -1.71875, 2.3125, -0.10...   \n",
       "3   [[-1.6875, 0.51171875, -1.71875, 2.3125, -0.10...   \n",
       "4   [[-1.6875, 0.51171875, -1.71875, 2.3125, -0.10...   \n",
       "..                                                ...   \n",
       "45  [[-1.6875, 0.51171875, -1.71875, 2.3125, -0.10...   \n",
       "46  [[-1.6875, 0.51171875, -1.71875, 2.3125, -0.10...   \n",
       "47  [[-1.6875, 0.51171875, -1.71875, 2.3125, -0.10...   \n",
       "48  [[-1.6875, 0.51171875, -1.71875, 2.3125, -0.10...   \n",
       "49  [[-1.6875, 0.51171875, -1.71875, 2.3125, -0.10...   \n",
       "\n",
       "                          opposition_first_embeddings  \\\n",
       "0   [[-1.6875, 0.51171875, -1.71875, 2.3125, -0.10...   \n",
       "1   [[-1.6875, 0.51171875, -1.71875, 2.3125, -0.10...   \n",
       "2   [[-1.6875, 0.51171875, -1.71875, 2.3125, -0.10...   \n",
       "3   [[-1.6875, 0.51171875, -1.71875, 2.3125, -0.10...   \n",
       "4   [[-1.6875, 0.51171875, -1.71875, 2.3125, -0.10...   \n",
       "..                                                ...   \n",
       "45  [[-1.6875, 0.51171875, -1.71875, 2.3125, -0.10...   \n",
       "46  [[-1.6875, 0.51171875, -1.71875, 2.3125, -0.10...   \n",
       "47  [[-1.6875, 0.51171875, -1.71875, 2.3125, -0.10...   \n",
       "48  [[-1.6875, 0.51171875, -1.71875, 2.3125, -0.10...   \n",
       "49  [[-1.6875, 0.51171875, -1.71875, 2.3125, -0.10...   \n",
       "\n",
       "                           opposition_mean_embeddings  \n",
       "0   [[3.074567674122545, 3.114687157892118, -1.050...  \n",
       "1   [[2.3855743246506314, 2.708639955402726, -1.21...  \n",
       "2   [[1.695646567081523, 2.4249613514952837, -0.89...  \n",
       "3   [[3.7049434945017192, 3.4614336281439004, -1.0...  \n",
       "4   [[2.9036702480091905, 2.7970401371750877, -1.6...  \n",
       "..                                                ...  \n",
       "45  [[3.8499574519674, 3.5468151730006303, -0.2596...  \n",
       "46  [[3.165077249140219, 3.02601168680439, -0.8918...  \n",
       "47  [[2.734606815526215, 2.5355846479721413, -1.08...  \n",
       "48  [[1.7267989111363713, 1.2854233714883134, 1.26...  \n",
       "49  [[3.7484843771533085, 3.115756515168796, -1.66...  \n",
       "\n",
       "[500 rows x 11 columns]"
      ]
     },
     "execution_count": 5,
     "metadata": {},
     "output_type": "execute_result"
    }
   ],
   "source": [
    "\n",
    "path = f'hidden_states/paired_testset_embeddings_{0}-{50}.csv'\n",
    "df = pd.read_csv(path)\n",
    "for i in range(50, 500, 50):\n",
    "    path = f'hidden_states/paired_testset_embeddings_{i}-{i+50}.csv'\n",
    "    temp = pd.read_csv(path)\n",
    "    df = pd.concat([df, temp])\n",
    "\n",
    "df"
   ]
  },
  {
   "cell_type": "code",
   "execution_count": 5,
   "metadata": {},
   "outputs": [
    {
     "data": {
      "text/html": [
       "<div>\n",
       "<style scoped>\n",
       "    .dataframe tbody tr th:only-of-type {\n",
       "        vertical-align: middle;\n",
       "    }\n",
       "\n",
       "    .dataframe tbody tr th {\n",
       "        vertical-align: top;\n",
       "    }\n",
       "\n",
       "    .dataframe thead th {\n",
       "        text-align: right;\n",
       "    }\n",
       "</style>\n",
       "<table border=\"1\" class=\"dataframe\">\n",
       "  <thead>\n",
       "    <tr style=\"text-align: right;\">\n",
       "      <th></th>\n",
       "      <th>Unnamed: 0</th>\n",
       "      <th>support</th>\n",
       "      <th>opposition</th>\n",
       "      <th>outcome</th>\n",
       "      <th>folder_id</th>\n",
       "      <th>case_path</th>\n",
       "      <th>data_type</th>\n",
       "      <th>support_embeddings</th>\n",
       "      <th>opposition_embeddings</th>\n",
       "    </tr>\n",
       "  </thead>\n",
       "  <tbody>\n",
       "    <tr>\n",
       "      <th>0</th>\n",
       "      <td>0</td>\n",
       "      <td>['Case 9:11-cv-80416-KLR Document 737 Entered ...</td>\n",
       "      <td>['Case 9:11-cv-80416-KLR Document 743 Entered ...</td>\n",
       "      <td>deny</td>\n",
       "      <td>1013</td>\n",
       "      <td>/mnt/a536sing/sdl1/gvc-recap/1/gov.uscourts.fl...</td>\n",
       "      <td>train</td>\n",
       "      <td>[[-1.6875      0.51171875 -1.71875    ... -0.0...</td>\n",
       "      <td>[[-1.68750000e+00  5.11718750e-01 -1.71875000e...</td>\n",
       "    </tr>\n",
       "    <tr>\n",
       "      <th>1</th>\n",
       "      <td>1</td>\n",
       "      <td>['IN THE UNITED STATES DISTRICT COURT\\nFOR THE...</td>\n",
       "      <td>['I i .\\nt | | , : tl\\n\\n \\n\\n \\n\\n \\n\\n \\n\\n ...</td>\n",
       "      <td>deny</td>\n",
       "      <td>909</td>\n",
       "      <td>/mnt/a536sing/sdag1/gvc-recap/0/gov.uscourts.m...</td>\n",
       "      <td>train</td>\n",
       "      <td>[[-1.6875      0.51171875 -1.71875    ... -0.0...</td>\n",
       "      <td>[[ -1.6875       0.51171875  -1.71875    ...  ...</td>\n",
       "    </tr>\n",
       "    <tr>\n",
       "      <th>2</th>\n",
       "      <td>2</td>\n",
       "      <td>[\"Case 1:08-cv-11908-RWZ Document 27\\n\\nFiled ...</td>\n",
       "      <td>['Case 1:08-cv-11908-RWZ Document 29\\n\\nFiled ...</td>\n",
       "      <td>grant</td>\n",
       "      <td>507</td>\n",
       "      <td>/mnt/a536sing/sdg1/gvc-recap/6/gov.uscourts.ma...</td>\n",
       "      <td>train</td>\n",
       "      <td>[[-1.6875      0.51171875 -1.71875    ... -0.0...</td>\n",
       "      <td>[[-1.6875      0.51171875 -1.71875    ... -0.0...</td>\n",
       "    </tr>\n",
       "    <tr>\n",
       "      <th>3</th>\n",
       "      <td>3</td>\n",
       "      <td>['Case 1:11-cv-10802-WGY Document 13 Filed 06/...</td>\n",
       "      <td>['Case 1:11-cv-10802-WGY Document 21\\n\\nFiled ...</td>\n",
       "      <td>deny</td>\n",
       "      <td>158</td>\n",
       "      <td>/mnt/a536sing/sdc1/gvc-recap/3/gov.uscourts.ma...</td>\n",
       "      <td>test</td>\n",
       "      <td>[[-1.6875      0.51171875 -1.71875    ... -0.0...</td>\n",
       "      <td>[[-1.6875      0.51171875 -1.71875    ... -0.0...</td>\n",
       "    </tr>\n",
       "    <tr>\n",
       "      <th>4</th>\n",
       "      <td>4</td>\n",
       "      <td>['10\\n11\\n12\\n13\\n14\\n15\\n16\\n17\\n18\\n19\\n20\\n...</td>\n",
       "      <td>['Case 3:07-cv-05739-SC\\n\\n1\\n2\\n3\\n4\\n\\nDocum...</td>\n",
       "      <td>deny</td>\n",
       "      <td>906</td>\n",
       "      <td>/mnt/a536sing/sdaa1/gvc-recap/8/gov.uscourts.c...</td>\n",
       "      <td>train</td>\n",
       "      <td>[[-1.6875      0.51171875 -1.71875    ... -0.0...</td>\n",
       "      <td>[[-1.6875      0.51171875 -1.71875    ... -0.0...</td>\n",
       "    </tr>\n",
       "    <tr>\n",
       "      <th>...</th>\n",
       "      <td>...</td>\n",
       "      <td>...</td>\n",
       "      <td>...</td>\n",
       "      <td>...</td>\n",
       "      <td>...</td>\n",
       "      <td>...</td>\n",
       "      <td>...</td>\n",
       "      <td>...</td>\n",
       "      <td>...</td>\n",
       "    </tr>\n",
       "    <tr>\n",
       "      <th>45</th>\n",
       "      <td>495</td>\n",
       "      <td>['Case 2:15-cr-00198-GZS Document 34 Filed 05/...</td>\n",
       "      <td>['Case 2:15-cr-00198-GZS Document 40 Filed 06/...</td>\n",
       "      <td>deny</td>\n",
       "      <td>636</td>\n",
       "      <td>/mnt/a536sing/sdal1/gvc-recap/5/gov.uscourts.m...</td>\n",
       "      <td>train</td>\n",
       "      <td>[[-1.6875      0.51171875 -1.71875    ... -0.0...</td>\n",
       "      <td>[[-1.6875      0.51171875 -1.71875    ... -0.0...</td>\n",
       "    </tr>\n",
       "    <tr>\n",
       "      <th>46</th>\n",
       "      <td>496</td>\n",
       "      <td>[' \\n\\n \\n\\nCase 1:10-cv-00569-RJA-LGF Documen...</td>\n",
       "      <td>['Case 1:10-cv-00569-RJA-LGF Document 598 File...</td>\n",
       "      <td>deny</td>\n",
       "      <td>894</td>\n",
       "      <td>/mnt/a536sing/sdo1/gvc-recap/1/gov.uscourts.ny...</td>\n",
       "      <td>test</td>\n",
       "      <td>[[-1.6875      0.51171875 -1.71875    ... -0.0...</td>\n",
       "      <td>[[ -1.6875       0.51171875  -1.71875    ...  ...</td>\n",
       "    </tr>\n",
       "    <tr>\n",
       "      <th>47</th>\n",
       "      <td>497</td>\n",
       "      <td>['Case 6:10-cv-00111-LED Document 325\\n\\nFiled...</td>\n",
       "      <td>['Case 6:10-cv-00111-LED Document 333\\n\\nFiled...</td>\n",
       "      <td>deny</td>\n",
       "      <td>621</td>\n",
       "      <td>/mnt/a536sing/sdh1/gvc-recap/9/gov.uscourts.tx...</td>\n",
       "      <td>test</td>\n",
       "      <td>[[-1.6875      0.51171875 -1.71875    ... -0.0...</td>\n",
       "      <td>[[ -1.6875       0.51171875  -1.71875    ...  ...</td>\n",
       "    </tr>\n",
       "    <tr>\n",
       "      <th>48</th>\n",
       "      <td>498</td>\n",
       "      <td>['Helio LLC v. Palm, Inc. Doc. 3\\n\\n \\n\\n \\n\\n...</td>\n",
       "      <td>['Helio LLC v. Palm, lnc.\\n\\n60373/2021440.1\\n...</td>\n",
       "      <td>deny</td>\n",
       "      <td>574</td>\n",
       "      <td>/mnt/a536sing/sdc1/gvc-recap/2/gov.uscourts.ca...</td>\n",
       "      <td>train</td>\n",
       "      <td>[[-1.6875      0.51171875 -1.71875    ... -0.0...</td>\n",
       "      <td>[[-1.6875      0.51171875 -1.71875    ... -0.0...</td>\n",
       "    </tr>\n",
       "    <tr>\n",
       "      <th>49</th>\n",
       "      <td>499</td>\n",
       "      <td>['Case 1:11-cv-00696-RLW Document 4 Filed 04/0...</td>\n",
       "      <td>['Case 1:11-cv-00696-RLW Document 22 Filed 04/...</td>\n",
       "      <td>grant</td>\n",
       "      <td>711</td>\n",
       "      <td>/mnt/a536sing/sdh1/gvc-recap/4/gov.uscourts.dc...</td>\n",
       "      <td>test</td>\n",
       "      <td>[[-1.6875      0.51171875 -1.71875    ... -0.0...</td>\n",
       "      <td>[[-1.6875      0.51171875 -1.71875    ... -0.0...</td>\n",
       "    </tr>\n",
       "  </tbody>\n",
       "</table>\n",
       "<p>500 rows × 9 columns</p>\n",
       "</div>"
      ],
      "text/plain": [
       "    Unnamed: 0                                            support  \\\n",
       "0            0  ['Case 9:11-cv-80416-KLR Document 737 Entered ...   \n",
       "1            1  ['IN THE UNITED STATES DISTRICT COURT\\nFOR THE...   \n",
       "2            2  [\"Case 1:08-cv-11908-RWZ Document 27\\n\\nFiled ...   \n",
       "3            3  ['Case 1:11-cv-10802-WGY Document 13 Filed 06/...   \n",
       "4            4  ['10\\n11\\n12\\n13\\n14\\n15\\n16\\n17\\n18\\n19\\n20\\n...   \n",
       "..         ...                                                ...   \n",
       "45         495  ['Case 2:15-cr-00198-GZS Document 34 Filed 05/...   \n",
       "46         496  [' \\n\\n \\n\\nCase 1:10-cv-00569-RJA-LGF Documen...   \n",
       "47         497  ['Case 6:10-cv-00111-LED Document 325\\n\\nFiled...   \n",
       "48         498  ['Helio LLC v. Palm, Inc. Doc. 3\\n\\n \\n\\n \\n\\n...   \n",
       "49         499  ['Case 1:11-cv-00696-RLW Document 4 Filed 04/0...   \n",
       "\n",
       "                                           opposition outcome  folder_id  \\\n",
       "0   ['Case 9:11-cv-80416-KLR Document 743 Entered ...    deny       1013   \n",
       "1   ['I i .\\nt | | , : tl\\n\\n \\n\\n \\n\\n \\n\\n \\n\\n ...    deny        909   \n",
       "2   ['Case 1:08-cv-11908-RWZ Document 29\\n\\nFiled ...   grant        507   \n",
       "3   ['Case 1:11-cv-10802-WGY Document 21\\n\\nFiled ...    deny        158   \n",
       "4   ['Case 3:07-cv-05739-SC\\n\\n1\\n2\\n3\\n4\\n\\nDocum...    deny        906   \n",
       "..                                                ...     ...        ...   \n",
       "45  ['Case 2:15-cr-00198-GZS Document 40 Filed 06/...    deny        636   \n",
       "46  ['Case 1:10-cv-00569-RJA-LGF Document 598 File...    deny        894   \n",
       "47  ['Case 6:10-cv-00111-LED Document 333\\n\\nFiled...    deny        621   \n",
       "48  ['Helio LLC v. Palm, lnc.\\n\\n60373/2021440.1\\n...    deny        574   \n",
       "49  ['Case 1:11-cv-00696-RLW Document 22 Filed 04/...   grant        711   \n",
       "\n",
       "                                            case_path data_type  \\\n",
       "0   /mnt/a536sing/sdl1/gvc-recap/1/gov.uscourts.fl...     train   \n",
       "1   /mnt/a536sing/sdag1/gvc-recap/0/gov.uscourts.m...     train   \n",
       "2   /mnt/a536sing/sdg1/gvc-recap/6/gov.uscourts.ma...     train   \n",
       "3   /mnt/a536sing/sdc1/gvc-recap/3/gov.uscourts.ma...      test   \n",
       "4   /mnt/a536sing/sdaa1/gvc-recap/8/gov.uscourts.c...     train   \n",
       "..                                                ...       ...   \n",
       "45  /mnt/a536sing/sdal1/gvc-recap/5/gov.uscourts.m...     train   \n",
       "46  /mnt/a536sing/sdo1/gvc-recap/1/gov.uscourts.ny...      test   \n",
       "47  /mnt/a536sing/sdh1/gvc-recap/9/gov.uscourts.tx...      test   \n",
       "48  /mnt/a536sing/sdc1/gvc-recap/2/gov.uscourts.ca...     train   \n",
       "49  /mnt/a536sing/sdh1/gvc-recap/4/gov.uscourts.dc...      test   \n",
       "\n",
       "                                   support_embeddings  \\\n",
       "0   [[-1.6875      0.51171875 -1.71875    ... -0.0...   \n",
       "1   [[-1.6875      0.51171875 -1.71875    ... -0.0...   \n",
       "2   [[-1.6875      0.51171875 -1.71875    ... -0.0...   \n",
       "3   [[-1.6875      0.51171875 -1.71875    ... -0.0...   \n",
       "4   [[-1.6875      0.51171875 -1.71875    ... -0.0...   \n",
       "..                                                ...   \n",
       "45  [[-1.6875      0.51171875 -1.71875    ... -0.0...   \n",
       "46  [[-1.6875      0.51171875 -1.71875    ... -0.0...   \n",
       "47  [[-1.6875      0.51171875 -1.71875    ... -0.0...   \n",
       "48  [[-1.6875      0.51171875 -1.71875    ... -0.0...   \n",
       "49  [[-1.6875      0.51171875 -1.71875    ... -0.0...   \n",
       "\n",
       "                                opposition_embeddings  \n",
       "0   [[-1.68750000e+00  5.11718750e-01 -1.71875000e...  \n",
       "1   [[ -1.6875       0.51171875  -1.71875    ...  ...  \n",
       "2   [[-1.6875      0.51171875 -1.71875    ... -0.0...  \n",
       "3   [[-1.6875      0.51171875 -1.71875    ... -0.0...  \n",
       "4   [[-1.6875      0.51171875 -1.71875    ... -0.0...  \n",
       "..                                                ...  \n",
       "45  [[-1.6875      0.51171875 -1.71875    ... -0.0...  \n",
       "46  [[ -1.6875       0.51171875  -1.71875    ...  ...  \n",
       "47  [[ -1.6875       0.51171875  -1.71875    ...  ...  \n",
       "48  [[-1.6875      0.51171875 -1.71875    ... -0.0...  \n",
       "49  [[-1.6875      0.51171875 -1.71875    ... -0.0...  \n",
       "\n",
       "[500 rows x 9 columns]"
      ]
     },
     "execution_count": 5,
     "metadata": {},
     "output_type": "execute_result"
    }
   ],
   "source": [
    "df"
   ]
  },
  {
   "cell_type": "markdown",
   "metadata": {},
   "source": [
    "### TFIDF"
   ]
  },
  {
   "cell_type": "code",
   "execution_count": 16,
   "metadata": {},
   "outputs": [],
   "source": [
    "paired = pd.read_csv('openai_dataset/paired_testset.csv', index_col=0)\n",
    "\n",
    "def getSingleBriefs(brief_type, paired=paired):\n",
    "    supports_map = list(map( lambda x: ast.literal_eval(x) , paired[brief_type].to_list()))\n",
    "    outcome_map = paired['outcome'].to_list()\n",
    "    data_type_map = paired['data_type'].to_list()  \n",
    "    data = []\n",
    "\n",
    "    for index,documents in enumerate(supports_map):\n",
    "        outcome = outcome_map[index]\n",
    "        data_type = data_type_map[index]\n",
    "        for document in documents: \n",
    "            data.append((document,outcome,data_type))\n",
    "\n",
    "    return np.array(data, dtype=str)\n",
    "\n",
    "def confusion_plot(true_labels, predicted_labels, classes, labels , normalize=False, title=None, cmap=plt.cm.Blues):\n",
    "\n",
    "    plt.figure(figsize=(10, 10))\n",
    "    matrix = confusion_matrix(true_labels, predicted_labels, labels=labels)\n",
    "\n",
    "    sns.heatmap(matrix, cmap=cmap, annot=True,\n",
    "                cbar = True, fmt=\".1f\",\n",
    "                 xticklabels=classes[\"x\"], \n",
    "                 yticklabels=classes[\"y\"])\n",
    "    class_names = [\"No Match\", \"Match\"]\n",
    "    # Plot non-normalized confusion matri\n",
    "    plt.xlabel(\"Predicted\")\n",
    "    plt.ylabel('Actual')\n",
    "    plt.title(title)\n",
    "    plt.show()\n",
    "    return matrix\n",
    "\n",
    "# supports\n",
    "    \n",
    "support_data = getSingleBriefs('support')\n",
    "oppose_data = getSingleBriefs('opposition')\n"
   ]
  },
  {
   "cell_type": "code",
   "execution_count": 30,
   "metadata": {},
   "outputs": [],
   "source": [
    "support_x = support_data[:,0]\n",
    "support_target = support_data[:,1]\n",
    "\n",
    "train = support_data[:,2] == 'train'\n",
    "test = support_data[:,2] == 'test'\n",
    "\n",
    "support_train_x = support_x[train]\n",
    "support_train_target = support_target[train]\n",
    "support_test_x = support_x[test]\n",
    "support_test_target = support_target[test]\n",
    "\n",
    "\n",
    "count_vect = CountVectorizer()\n",
    "count_vect = count_vect.fit(support_x)\n",
    "support_train_counts = count_vect.transform(support_train_x)\n",
    "support_test_counts = count_vect.transform(support_test_target)\n",
    "\n",
    "\n",
    "labels = [\"grant\", \"deny\"]\n",
    "classes = {\"x\": labels, \"y\": labels}"
   ]
  },
  {
   "cell_type": "code",
   "execution_count": 27,
   "metadata": {},
   "outputs": [],
   "source": [
    "pipe = Pipeline([('count', CountVectorizer()),('tfid', TfidfTransformer())])\n",
    "transformed_data = pipe.fit(support_x)\n",
    "# tfid_train = pipe['tfid'].transform(support_train_x).toarray()\n",
    "# tfid_test = pipe['tfid'].transform(support_test_x).toarray()\n",
    "\n",
    "# #how to write numpy array to csv\n",
    "# np.savetxt(\"tfid_train.csv\", tfid_train, delimiter=\",\")\n",
    "# np.savetxt(\"tfid_test.csv\", tfid_test, delimiter=\",\")\n",
    "count_train = transformed_data['count'].transform(support_train_x).toarray()\n",
    "\n",
    "tfid_train = transformed_data['tfid'].transform(count_train).toarray()\n",
    "\n",
    "count_test = transformed_data['count'].transform(support_test_x).toarray()\n",
    "\n",
    "tfid_test = transformed_data['tfid'].transform(count_test).toarray()\n",
    "\n",
    "\n",
    "# #how to write numpy array to csv\n",
    "np.savetxt(\"tfid_train.csv\", tfid_train, delimiter=\",\")\n",
    "np.savetxt(\"tfid_test.csv\", tfid_test, delimiter=\",\")\n",
    "\n"
   ]
  },
  {
   "cell_type": "code",
   "execution_count": 34,
   "metadata": {},
   "outputs": [],
   "source": [
    "np.savetxt(\"support_train_target.csv\", support_train_target, delimiter=\",\", fmt='%s')\n",
    "np.savetxt(\"support_test_target.csv\", support_test_target, delimiter=\",\", fmt='%s')"
   ]
  },
  {
   "cell_type": "code",
   "execution_count": 150,
   "metadata": {},
   "outputs": [
    {
     "name": "stdout",
     "output_type": "stream",
     "text": [
      "accuracy: 0.5631067961165048\n"
     ]
    },
    {
     "data": {
      "image/png": "[encoded data removed]",
      "text/plain": [
       "<Figure size 1000x1000 with 2 Axes>"
      ]
     },
     "metadata": {},
     "output_type": "display_data"
    },
    {
     "data": {
      "text/plain": [
       "array([[ 45,  98],\n",
       "       [ 37, 129]])"
      ]
     },
     "execution_count": 150,
     "metadata": {},
     "output_type": "execute_result"
    }
   ],
   "source": [
    "text_clf = Pipeline([\n",
    "    ('vect', CountVectorizer()),\n",
    "    ('tfidf', TfidfTransformer()),\n",
    "    ('clf', SGDClassifier(loss='hinge', penalty='l2',\n",
    "                          alpha=1e-3, random_state=42,\n",
    "                          max_iter=5, tol=None)),\n",
    "])\n",
    "\n",
    "text_clf.fit(support_train_x, support_train_target)\n",
    "predicted = text_clf.predict(support_test_x)\n",
    "print(f\"accuracy: {np.mean(predicted == support_test_target)}\")\n",
    "\n",
    "confusion_plot(support_test_target, predicted, classes, labels=labels, normalize=False, title=\"Linear SVM (1) Confusion Matrix\")"
   ]
  },
  {
   "cell_type": "code",
   "execution_count": 144,
   "metadata": {},
   "outputs": [
    {
     "name": "stdout",
     "output_type": "stream",
     "text": [
      "accuracy: 0.56957928802589\n"
     ]
    },
    {
     "data": {
      "image/png": "[encoded data removed]",
      "text/plain": [
       "<Figure size 1000x1000 with 2 Axes>"
      ]
     },
     "metadata": {},
     "output_type": "display_data"
    },
    {
     "data": {
      "text/plain": [
       "array([[87, 56],\n",
       "       [77, 89]])"
      ]
     },
     "execution_count": 144,
     "metadata": {},
     "output_type": "execute_result"
    }
   ],
   "source": [
    "text_clf = Pipeline([\n",
    "    ('vect', CountVectorizer()),\n",
    "    ('tfidf', TfidfTransformer()),\n",
    "    ('clf', LinearSVC( random_state=42, tol=1e-5)),\n",
    "])\n",
    "\n",
    "text_clf.fit(support_train_x, support_train_target)\n",
    "predicted = text_clf.predict(support_test_x)\n",
    "print(f\"accuracy: {np.mean(predicted == support_test_target)}\")\n",
    "\n",
    "\n",
    "confusion_plot(support_test_target, predicted, classes, labels=labels, normalize=False, title=\"Linear SVM (2) Confusion Matrix\")"
   ]
  },
  {
   "cell_type": "code",
   "execution_count": 155,
   "metadata": {},
   "outputs": [
    {
     "name": "stdout",
     "output_type": "stream",
     "text": [
      "0.5275080906148867\n"
     ]
    },
    {
     "data": {
      "image/png": "[encoded data removed]",
      "text/plain": [
       "<Figure size 1000x1000 with 2 Axes>"
      ]
     },
     "metadata": {},
     "output_type": "display_data"
    },
    {
     "data": {
      "text/plain": [
       "array([[109,  34],\n",
       "       [112,  54]])"
      ]
     },
     "execution_count": 155,
     "metadata": {},
     "output_type": "execute_result"
    }
   ],
   "source": [
    "\n",
    "text_clf = Pipeline([\n",
    "    ('vect', CountVectorizer()),\n",
    "    ('tfidf', TfidfTransformer()),\n",
    "    ('logistic',LogisticRegression(solver='liblinear')),\n",
    "])\n",
    "\n",
    "text_clf.fit(support_train_x, support_train_target)\n",
    "predicted = text_clf.predict(support_test_x)\n",
    "print(np.mean(predicted == support_test_target))\n",
    "#print(f\"probability: {text_clf.predict_proba(support_test_x)}\")\n",
    "confusion_plot(support_test_target, predicted, classes, labels=labels, normalize=False, title=\"Logistic Regression Confusion Matrix\")"
   ]
  },
  {
   "cell_type": "code",
   "execution_count": 156,
   "metadata": {},
   "outputs": [
    {
     "name": "stdout",
     "output_type": "stream",
     "text": [
      "0.56957928802589\n"
     ]
    },
    {
     "data": {
      "image/png": "[encoded data removed]",
      "text/plain": [
       "<Figure size 1000x1000 with 2 Axes>"
      ]
     },
     "metadata": {},
     "output_type": "display_data"
    },
    {
     "data": {
      "text/plain": [
       "array([[113,  30],\n",
       "       [103,  63]])"
      ]
     },
     "execution_count": 156,
     "metadata": {},
     "output_type": "execute_result"
    }
   ],
   "source": [
    "\n",
    "text_clf = Pipeline([\n",
    "    ('vect', CountVectorizer()),\n",
    "    ('tfidf', TfidfTransformer()),\n",
    "    ('RFT', RandomForestClassifier(n_estimators = 1500, criterion = \"entropy\", oob_score = True, max_features= 1)),\n",
    "])\n",
    "\n",
    "text_clf.fit(support_train_x, support_train_target)\n",
    "predicted = text_clf.predict(support_test_x)\n",
    "print(np.mean(predicted == support_test_target))\n",
    "#print(f\"probability: {text_clf.predict_proba(support_test_x)}\")\n",
    "confusion_plot(support_test_target, predicted, classes, labels=labels, normalize=False, title=\"RandomForestClassifier Confusion Matrix\")\n"
   ]
  },
  {
   "cell_type": "code",
   "execution_count": 154,
   "metadata": {},
   "outputs": [
    {
     "name": "stdout",
     "output_type": "stream",
     "text": [
      " accuracy 0.540453074433657\n"
     ]
    },
    {
     "data": {
      "image/png": "[encoded data removed]",
      "text/plain": [
       "<Figure size 1000x1000 with 2 Axes>"
      ]
     },
     "metadata": {},
     "output_type": "display_data"
    },
    {
     "data": {
      "text/plain": [
       "array([[78, 65],\n",
       "       [77, 89]])"
      ]
     },
     "execution_count": 154,
     "metadata": {},
     "output_type": "execute_result"
    }
   ],
   "source": [
    "text_clf = Pipeline([\n",
    "    ('vect', CountVectorizer()),\n",
    "    ('tfidf', TfidfTransformer()),\n",
    "    ('KNN', KNeighborsClassifier()),\n",
    "])\n",
    "\n",
    "text_clf.fit(support_train_x, support_train_target)\n",
    "predicted = text_clf.predict(support_test_x)\n",
    "print(f\" accuracy {np.mean(predicted == support_test_target)}\")\n",
    "confusion_plot(support_test_target, predicted, classes, labels=labels, normalize=False, title=\"KNearest Neighbours Confusion Matrix\")\n"
   ]
  },
  {
   "cell_type": "markdown",
   "metadata": {},
   "source": [
    "### Embeddings"
   ]
  },
  {
   "cell_type": "markdown",
   "metadata": {},
   "source": []
  },
  {
   "cell_type": "code",
   "execution_count": 32,
   "metadata": {},
   "outputs": [],
   "source": [
    "\n",
    "def getSingleBriefEmbeddings(brief_type, paired=paired):\n",
    "    embeddings_map = list(map( lambda x: convert_to_numpy(x) , paired[brief_type].to_list()))\n",
    "    outcome_map = paired['outcome'].to_list()\n",
    "    data_type_map = paired['data_type'].to_list()  \n",
    "    data =  [] \n",
    "    outcomes = []\n",
    "    data_types = []\n",
    "\n",
    "    for index,embeddings in enumerate(embeddings_map):\n",
    "        outcome = outcome_map[index]\n",
    "        data_type = data_type_map[index]\n",
    "        for embedding in embeddings: \n",
    "            data.append(embedding)\n",
    "            outcomes.append(outcome)\n",
    "            data_types.append(data_type)\n",
    "    return np.array(data) , np.array(outcomes , dtype=str) , np.array(data_types , dtype=str)\n",
    "\n",
    "# convert string to Torch array\n",
    "\n",
    "def convert_to_numpy(embedding):\n",
    "    return np.array(ast.literal_eval(embedding))\n"
   ]
  },
  {
   "cell_type": "code",
   "execution_count": 45,
   "metadata": {},
   "outputs": [],
   "source": [
    "support_mean_embeddings = getSingleBriefEmbeddings('support_mean_embeddings', df)\n",
    "X, Y, data_types = support_mean_embeddings"
   ]
  },
  {
   "cell_type": "code",
   "execution_count": 49,
   "metadata": {},
   "outputs": [],
   "source": [
    "\n",
    "train = data_types == 'train'\n",
    "test = data_types == 'test'\n",
    "\n",
    "support_train_x = X[train]\n",
    "support_train_target = Y[train]\n",
    "support_test_x = X[test]\n",
    "support_test_target = Y[test]\n",
    "\n"
   ]
  },
  {
   "cell_type": "code",
   "execution_count": 56,
   "metadata": {},
   "outputs": [
    {
     "name": "stdout",
     "output_type": "stream",
     "text": [
      "SGD: 0.5048543689320388\n",
      "RFT: 0.5307443365695793\n",
      "KNN: 0.5307443365695793\n",
      "Logisti: 0.5469255663430421\n",
      "LinearSVC: 0.5275080906148867\n"
     ]
    },
    {
     "name": "stderr",
     "output_type": "stream",
     "text": [
      "/Users/oluwaseuncardoso/Desktop/Projects/venv/lib/python3.9/site-packages/sklearn/svm/_base.py:1244: ConvergenceWarning: Liblinear failed to converge, increase the number of iterations.\n",
      "  warnings.warn(\n"
     ]
    }
   ],
   "source": [
    "from sklearn.preprocessing import StandardScaler\n",
    "from sklearn.pipeline import make_pipeline\n",
    "\n",
    "clf1 = SGDClassifier(loss='hinge', penalty='l2',\n",
    "                          alpha=1e-3, random_state=42,\n",
    "                          max_iter=5, tol=None)\n",
    "\n",
    "clf2 = RandomForestClassifier(n_estimators = 1500, criterion = \"entropy\", oob_score = True, max_features= 1)\n",
    "\n",
    "clf3 = KNeighborsClassifier()\n",
    "\n",
    "clf4 = LogisticRegression(solver='liblinear')\n",
    "\n",
    "clf5 = LinearSVC( random_state=42, tol=1e-5)\n",
    "\n",
    "\n",
    "clf1.fit(support_train_x, support_train_target)\n",
    "clf2.fit(support_train_x, support_train_target)\n",
    "clf3.fit(support_train_x, support_train_target)\n",
    "clf4.fit(support_train_x, support_train_target)\n",
    "clf5.fit(support_train_x, support_train_target)\n",
    "\n",
    "\n",
    "print(f\"SGD: {clf1.score(support_test_x, support_test_target)}\")\n",
    "print(f\"RFT: {clf2.score(support_test_x, support_test_target)}\")\n",
    "print(f\"KNN: {clf3.score(support_test_x, support_test_target)}\")\n",
    "print(f\"Logistic: {clf4.score(support_test_x, support_test_target)}\")\n",
    "print(f\"LinearSVC: {clf5.score(support_test_x, support_test_target)}\")\n",
    "\n"
   ]
  },
  {
   "cell_type": "code",
   "execution_count": 52,
   "metadata": {},
   "outputs": [
    {
     "data": {
      "text/plain": [
       "array([ 2.91991832,  3.35592169, -0.84496191, ...,  0.19205808,\n",
       "        3.00796133, -0.81398196])"
      ]
     },
     "execution_count": 52,
     "metadata": {},
     "output_type": "execute_result"
    }
   ],
   "source": [
    "support_train_x[0]"
   ]
  },
  {
   "cell_type": "code",
   "execution_count": 55,
   "metadata": {},
   "outputs": [
    {
     "name": "stdout",
     "output_type": "stream",
     "text": [
      "0.6043613707165109\n"
     ]
    }
   ],
   "source": [
    "print(clf1.score(support_train_x, support_train_target))"
   ]
  },
  {
   "cell_type": "code",
   "execution_count": null,
   "metadata": {},
   "outputs": [],
   "source": []
  }
 ],
 "metadata": {
  "kernelspec": {
   "display_name": "venv",
   "language": "python",
   "name": "python3"
  },
  "language_info": {
   "codemirror_mode": {
    "name": "ipython",
    "version": 3
   },
   "file_extension": ".py",
   "mimetype": "text/x-python",
   "name": "python",
   "nbconvert_exporter": "python",
   "pygments_lexer": "ipython3",
   "version": "3.9.6"
  },
  "orig_nbformat": 4
 },
 "nbformat": 4,
 "nbformat_minor": 2
}
